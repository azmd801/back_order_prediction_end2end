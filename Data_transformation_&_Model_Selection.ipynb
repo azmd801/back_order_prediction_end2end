{
  "cells": [
    {
      "cell_type": "markdown",
      "metadata": {
        "colab_type": "text",
        "id": "view-in-github"
      },
      "source": [
        "<a href=\"https://colab.research.google.com/github/azmd801/back_order_prediction/blob/main/notebook/Data_transformation_%26_Model_Selection.ipynb\" target=\"_parent\"><img src=\"https://colab.research.google.com/assets/colab-badge.svg\" alt=\"Open In Colab\"/></a>"
      ]
    },
    {
      "cell_type": "markdown",
      "metadata": {
        "id": "-jD1cEniP4fR"
      },
      "source": [
        "# Abstract\n",
        "\n",
        "In the initial phase, a thorough Exploratory Data Analysis (EDA) was conducted, shedding light on the complex issue of backorders in the retail and supply chain sectors. This detailed examination of a large dataset hinted at the vital role predictive models could play in refining inventory management and enhancing customer satisfaction. The EDA revealed several preprocessing opportunities, including tackling high skewness and managing outliers. It suggested that these preprocessing options could be treated as hyperparameters, allowing for a systematic cross-validation process to identify the best pipeline. This strategy aims to pave the way for a predictive model capable of effectively forecasting backorders, fostering improved management approaches and greater operational efficiency in the relevant industries. [Open EDA Notebook](https://github.com/azmd801/back_order_prediction/blob/main/notebook/eda.ipynb)\n",
        "\n",
        "This notebook presents a systematic approach to data transformation, focusing on the critical role of preprocessing choices treated as hyperparameters. These choices are meticulously optimized through cross-validation to determine the best preprocessing pipeline. Initially, the process begins with the removal of redundant features, such as 'sku.'\n",
        "\n",
        "As the approach unfolds, it explores various preprocessing techniques, including handling outliers, addressing sparse features, and strategies for categorical feature handling and imputation. A detailed plan is established to improve predictability and ensure consistency through robust preprocessing pipelines.\n",
        "\n",
        "Furthermore, custom functions and classes are introduced to simplify the data transformation process, concentrating on the removal of irrelevant features and the mitigation of outlier effects, ultimately preparing the data for effective modeling. The CustomPipeline class is a central component, enhancing flexibility and efficiency by facilitating the creation of diverse machine learning pipelines through parameterization.\n",
        "\n",
        "In addition, the experimentation of various machine learning pipelines is enabled by the CustomPipeline class, serving as a core element of model exploration. Leveraging Optuna for optimization, this phase involves meticulous identification of the best pipeline, leveraging 100,000 samples, which represent 10% of the entire dataset, to ensure robust model selection.\n",
        "\n",
        "While Logistic Regression initially emerges as a model choice, the limited sample size raises questions about its reliability. Consequently, a more detailed evaluation encompasses various classifiers, including XGBClassifier, RandomForestClassifier, and SVC. These classifiers are empowered by transformations determined by Optuna's best pipeline, enhancing their performance across the complete dataset.\n",
        "\n",
        "Subsequent steps involve fine-tuning the selected model's hyperparameters through Optuna, aiming to further enhance accuracy and suitability for the task. The evaluation process considers not only the balanced accuracy score (0.84) but also the ROC AUC score (0.93), which quantifies the model's ability to differentiate products at risk of backorder effectively.\n",
        "\n",
        "Additionally, the exploratory data analysis (EDA) conducted during the preliminary stages of this process revealed key insights into the dataset's characteristics. Notably, it highlighted issues such as data imbalance, outliers in certain features, and sparse distributions in others, providing essential context for subsequent preprocessing and modeling decisions.\n",
        "\n",
        "In the final assessment, the chosen model is rigorously evaluated to determine its effectiveness and identify areas for improvement. While the model excels in identifying most backorders (Test balanced accuracy: 0.84 and Test ROC AUC: 0.93), there's room for optimization, particularly in reducing false positives, as indicated by the test precision score (0.09) and the test F1 score (0.16).\n",
        "\n",
        "The overarching goal is to facilitate proactive management strategies and enhance operational efficiency in the retail and supply chain sectors by fine-tuning the model for high balanced accuracy. This improvement ultimately leads to better resource allocation and increased customer satisfaction."
      ]
    },
    {
      "cell_type": "markdown",
      "metadata": {
        "id": "gcyP4TOolYt7"
      },
      "source": [
        "# Approcah for data transformation"
      ]
    },
    {
      "cell_type": "markdown",
      "metadata": {
        "id": "u82caR-iagM7"
      },
      "source": [
        "There are lot of options availble for preprocessing data all these options are hyperparameters and can be cross validated to find the best preprocessing pipelin\n",
        "\n",
        "### Fixed steps which will done initially before any data transformation\n",
        "* dropping unncessary features  `'sku'`\n",
        "\n",
        "### Diffrent pre-processing options availbale\n",
        "\n",
        "1. use all the data as it is without any modification\n",
        "2. Use winsorization to handle outlier\n",
        "3. removing extreme sparse feature  `'in_transit_qty'`, `'local_bo_qty'`, `'pieces_past_due'`\n",
        "4. Removing extreme imbalance features `'potential_issue'`, `'oe_constraint'`, and `'rev_stop'`\n",
        "5. Removing extreme sparse features\n",
        "\n",
        "### Options for Handling categorical feature\n",
        "1. Use one hot encode by removing first dummy variable\n",
        "2.Keeping all the variabbles\n",
        "\n",
        "### Options for imputation\n",
        "\n",
        " * `lead_time` has 100894 missing records (6%) which is large so these records cant be dropped\n",
        " * For rest of the features there is only one missing records so these will be dropped\n",
        " * For handiling the missing value of lead_time knn_imputer and median imputaion will be used\n",
        " * add_indicator will be explored\n",
        "\n",
        "### Refrences\n",
        "\n",
        " * https://chinmaydalvi.medium.com/backorder-prediction-using-machine-learning-cbe2a7d2cfa4\n"
      ]
    },
    {
      "cell_type": "markdown",
      "metadata": {
        "id": "lZAEXyA0va3-"
      },
      "source": [
        "# Importing required libraries"
      ]
    },
    {
      "cell_type": "code",
      "execution_count": null,
      "metadata": {
        "colab": {
          "base_uri": "https://localhost:8080/",
          "height": 36
        },
        "id": "rpq1B819aetL",
        "outputId": "00883657-efc2-47c7-cad5-1d1d5bdb0c78"
      },
      "outputs": [
        {
          "data": {
            "application/vnd.google.colaboratory.intrinsic+json": {
              "type": "string"
            },
            "text/plain": [
              "'3.3.0'"
            ]
          },
          "execution_count": 38,
          "metadata": {},
          "output_type": "execute_result"
        }
      ],
      "source": [
        "# Standard library imports\n",
        "import os\n",
        "import warnings\n",
        "\n",
        "# External libraries\n",
        "import pandas as pd\n",
        "import numpy as np\n",
        "import seaborn as sns\n",
        "import matplotlib.pyplot as plt\n",
        "from typing import List\n",
        "from scipy.stats.mstats import winsorize\n",
        "from sklearn.compose import ColumnTransformer\n",
        "from sklearn.preprocessing import FunctionTransformer, OneHotEncoder, StandardScaler, LabelEncoder, PowerTransformer\n",
        "from sklearn.impute import SimpleImputer, KNNImputer\n",
        "from sklearn.ensemble import RandomForestClassifier\n",
        "from sklearn.svm import SVC\n",
        "from sklearn.linear_model import LogisticRegression\n",
        "from xgboost import XGBClassifier\n",
        "from sklearn.metrics import (balanced_accuracy_score, roc_auc_score, precision_score, recall_score,\n",
        "                             f1_score, roc_curve, auc, confusion_matrix, make_scorer)\n",
        "from sklearn.model_selection import cross_val_score\n",
        "from imblearn.pipeline import Pipeline as Pipeline\n",
        "from imblearn.over_sampling import RandomOverSampler\n",
        "from tabulate import tabulate\n",
        "import optuna\n",
        "import patoolib\n",
        "\n",
        "# Settings and installations\n",
        "warnings.filterwarnings(\"ignore\")\n",
        "!pip install --quiet unrar\n",
        "!pip install --quiet patool\n",
        "!pip install --quiet optuna\n",
        "\n",
        "# Check optuna version\n",
        "optuna.__version__"
      ]
    },
    {
      "cell_type": "markdown",
      "metadata": {
        "id": "5WrCbTEdvqoY"
      },
      "source": [
        "# Custom functions and class"
      ]
    },
    {
      "cell_type": "markdown",
      "metadata": {
        "id": "c1lywpBiyWkR"
      },
      "source": [
        "##  Feature Transformation Functions\n",
        "\n",
        "In machine learning, creating robust preprocessing pipelines can improve model performance and ensure reproducibility. Several feature transformation functions are introduced here to prepare the data effectively.\n",
        "\n",
        "\n",
        "### `drop_col` Function\n",
        "\n",
        "**Purpose**: To remove irrelevant or unnecessary features.\n",
        "\n",
        "**Rationale:**  \n",
        "- Irrelevant or redundant features can introduce noise and can deteriorate the model's performance.\n",
        "- Simplifying the model by removing such features can potentially enhance its predictability.\n",
        "\n",
        "\n",
        "### `Winsorizer` Class\n",
        "\n",
        "**Purpose**: To mitigate the influence of outliers.\n",
        "\n",
        "**Rationale:**  \n",
        "- Outliers can distort the model's understanding, leading to longer training times and potentially compromising accuracy.\n",
        "- Winsorization is a technique that caps extreme values to a predetermined range, making them less influential and limiting their adverse effect."
      ]
    },
    {
      "cell_type": "code",
      "execution_count": null,
      "metadata": {
        "id": "g7WvlkkMt6n8"
      },
      "outputs": [],
      "source": [
        "## function to drop columns\n",
        "\n",
        "def drop_col(df: pd.DataFrame, columns: List[str], drop: bool =True) -> pd.DataFrame:\n",
        "    \"\"\"\n",
        "    Drop columns from a DataFrame.\n",
        "\n",
        "    Parameters:\n",
        "    - df: Input DataFrame.\n",
        "    - columns: List of column names to drop.\n",
        "\n",
        "    Returns:\n",
        "    - DataFrame: DataFrame with the specified columns dropped.\n",
        "    \"\"\"\n",
        "    # if 'sku' in df.columns:\n",
        "    #   df.drop('sku',inplace=True,axis=1)\n",
        "\n",
        "    if not drop:\n",
        "      return df.drop('sku',axis=1)\n",
        "\n",
        "    return df.drop('sku',axis=1).drop(columns, axis=1)\n",
        "\n",
        "from sklearn.base import TransformerMixin\n",
        "\n",
        "## custom class with fit and tranform to perform winsorization\n",
        "\n",
        "class Winsorizer(TransformerMixin):\n",
        "    def __init__(self, change=True):\n",
        "        \"\"\"\n",
        "        Initialize the Winsorizer transformer.\n",
        "\n",
        "        Parameters:\n",
        "        - lower_quantile (float): Lower quantile for winsorization (default: 0.05).\n",
        "        - upper_quantile (float): Upper quantile for winsorization (default: 0.95).\n",
        "        \"\"\"\n",
        "        self.change = change\n",
        "\n",
        "    def fit(self, X, y=None):\n",
        "        \"\"\"\n",
        "        Fit the Winsorizer transformer.\n",
        "\n",
        "        Parameters:\n",
        "        - X (array-like): Input data.\n",
        "        - y: Ignored.\n",
        "\n",
        "        Returns:\n",
        "        - self: Returns the instance of the transformer.\n",
        "        \"\"\"\n",
        "        # Calculate the percentiles\n",
        "        p0 = np.nanpercentile(X, 0)\n",
        "        p100 = np.nanpercentile(X, 100)\n",
        "\n",
        "        # Calculate the lower and upper IQR\n",
        "        Q1 = np.nanpercentile(X, 25)\n",
        "        Q3 = np.nanpercentile(X, 75)\n",
        "        IQR = Q3 - Q1\n",
        "\n",
        "        # Calculate the lower and upper bounds\n",
        "        self.lower_bound = max(Q1 - (1.5 * IQR),p0)\n",
        "        self.upper_bound = min(Q3 + (1.5 * IQR),p100)\n",
        "        return self\n",
        "\n",
        "    def transform(self, X):\n",
        "        \"\"\"\n",
        "        Transform the input data using winsorization.\n",
        "\n",
        "        Parameters:\n",
        "        - X (array-like): Input data to be transformed.\n",
        "\n",
        "        Returns:\n",
        "        - X_transformed (array-like): Transformed data after winsorization.\n",
        "        \"\"\"\n",
        "\n",
        "        if not self.change:\n",
        "          return X\n",
        "\n",
        "        X_clipped = np.clip(X, self.lower_bound, self.upper_bound)\n",
        "        return X_clipped\n",
        "\n",
        "    def get_feature_names_out(self, input_features):\n",
        "        \"\"\"\n",
        "        Get the feature names after transformation.\n",
        "\n",
        "        Parameters:\n",
        "        - input_features (array-like): Input feature names.\n",
        "\n",
        "        Returns:\n",
        "        - output_features (array-like): Transformed feature names.\n",
        "        \"\"\"\n",
        "        return input_features"
      ]
    },
    {
      "cell_type": "markdown",
      "metadata": {
        "id": "2HqdbtUY1THZ"
      },
      "source": [
        "## CustomMLPipeline Class\n",
        "\n",
        "The `CustomMLPipeline` class facilitates the construction of a machine learning pipeline specifically tailored for classification. By incorporating various preprocessing, feature engineering, and modeling techniques, this class enables users to create and experiment with different pipeline configurations efficiently.\n",
        "\n"
      ]
    },
    {
      "cell_type": "code",
      "execution_count": null,
      "metadata": {
        "id": "99lYWwnqHfnW"
      },
      "outputs": [],
      "source": [
        "class CustomMLPipeline:\n",
        "    \"\"\"\n",
        "    Custom Machine Learning Pipeline for Classification.\n",
        "\n",
        "    This class provides tools for creating a tailored machine learning pipeline, designed to streamline the\n",
        "    process of experimenting with different configurations and finding the optimal setup for classification tasks.\n",
        "\n",
        "    Attributes:\n",
        "    - imputer_type (str): Choose an imputation method for handling missing data.\n",
        "    - drop_and_winsorize (bool): Enable dropping of columns and applying winsorization.\n",
        "    - classifier (str): Select a classifier for training the model.\n",
        "    - columns_to_drop (str): Specify columns to drop from the data.\n",
        "    - add_indicator (bool): Indicate whether to add informative indicator columns.\n",
        "    - keep_first (bool): Specify whether to retain the first category during encoding.\n",
        "\n",
        "    Methods:\n",
        "    - __init__(*args, add_indicator: bool = False, keep_first: bool = False):\n",
        "        Initialize the custom classification pipeline.\n",
        "\n",
        "    - _create_classifier() -> Classifier:\n",
        "        Create and return an instance of the chosen classifier.\n",
        "\n",
        "    - _drop_col(X: pd.DataFrame) -> pd.DataFrame:\n",
        "        Drop specified columns from the input DataFrame.\n",
        "\n",
        "    - create_pipeline() -> Pipeline:\n",
        "        Construct and return a customized classification pipeline.\n",
        "\n",
        "    By adjusting the parameters and options, you can systematically explore various approaches to preprocessing,\n",
        "    classification, and feature engineering. This class empowers you to iterate and fine-tune your pipeline to\n",
        "    discover the most effective way to teach your model to classify data.\n",
        "    \"\"\"\n",
        "    # Common varaibles used for pipeline exprementation defined as  class-level attributes\n",
        "    useless_cols = ['in_transit_qty', 'local_bo_qty', 'pieces_past_due',\n",
        "                'potential_issue', 'oe_constraint', 'rev_stop']\n",
        "\n",
        "    sparse_cols = ['in_transit_qty', 'forecast_3_month', 'forecast_6_month',\n",
        "                  'forecast_9_month', 'sales_1_month', 'sales_3_month',\n",
        "                  'sales_6_month', 'sales_9_month', 'min_bank',\n",
        "                  'pieces_past_due', 'local_bo_qty']\n",
        "\n",
        "    numeric_cols = ['national_inv', 'lead_time', 'in_transit_qty',\n",
        "                    'forecast_3_month', 'forecast_6_month', 'forecast_9_month',\n",
        "                    'sales_1_month', 'sales_3_month', 'sales_6_month',\n",
        "                    'sales_9_month', 'min_bank', 'pieces_past_due',\n",
        "                    'perf_6_month_avg', 'perf_12_month_avg', 'local_bo_qty']\n",
        "\n",
        "    cat_cols = ['potential_issue', 'deck_risk', 'oe_constraint', 'ppap_risk',\n",
        "                'stop_auto_buy', 'rev_stop']\n",
        "\n",
        "    def __init__(self, imputer_type, drop_and_winsorize, classifier, columns_to_drop,\n",
        "                 add_indicator=False, keep_first=False):\n",
        "        \"\"\"\n",
        "        Initialize the custom classification pipeline.\n",
        "\n",
        "        Parameters:\n",
        "        - imputer_type (str): Type of imputation strategy for handling missing data.\n",
        "        - drop_and_winsorize (bool): Flag indicating whether to drop columns and perform winsorization.\n",
        "        - classifier (str): Type of classifier to be used for the pipeline.\n",
        "        - columns_to_drop (str): Type of columns to be dropped from the dataset.\n",
        "        - add_indicator (bool, optional): Include additional indicator columns after imputation. Default is False.\n",
        "        - keep_first (bool, optional): Keep the first category during feature encoding. Default is False.\n",
        "        \"\"\"\n",
        "        self.imputer_type = imputer_type\n",
        "        self.drop_and_winsorize = drop_and_winsorize\n",
        "        self.classifier = classifier\n",
        "        self.columns_to_drop = columns_to_drop\n",
        "        self.add_indicator = add_indicator\n",
        "        self.keep_first = keep_first\n",
        "\n",
        "\n",
        "        # Determine columns to drop based on configuration\n",
        "        if self.drop_and_winsorize:\n",
        "            self.drop_cols = self.useless_cols if self.columns_to_drop == 'useless' else self.sparse_cols\n",
        "        else:\n",
        "            self.drop_cols = []\n",
        "\n",
        "        # Columns to be used in the pipeline\n",
        "        self.num_cols_used = [col for col in self.numeric_cols if col not in self.drop_cols]\n",
        "        self.cat_cols_used = [col for col in self.cat_cols if col not in self.drop_cols]\n",
        "\n",
        "    def _create_classifier(self):\n",
        "        \"\"\"\n",
        "        Create and return an instance of the chosen classifier.\n",
        "\n",
        "        Returns:\n",
        "        - clf: The chosen classifier instance.\n",
        "        \"\"\"\n",
        "        if self.classifier == 'RandomForest':\n",
        "            clf = RandomForestClassifier()\n",
        "\n",
        "        elif self.classifier == 'SVC':\n",
        "            clf = SVC()\n",
        "\n",
        "        elif self.classifier == 'LogisticRegression':\n",
        "            clf = LogisticRegression(solver='liblinear')\n",
        "\n",
        "        elif self.classifier == 'XGBoost':\n",
        "            clf = XGBClassifier()\n",
        "\n",
        "        else:\n",
        "            raise ValueError(f\"Invalid classifier: {self.classifier}\")\n",
        "\n",
        "        return clf\n",
        "\n",
        "    def _drop_col(self, X):\n",
        "        \"\"\"\n",
        "        Drop specified columns from the input DataFrame.\n",
        "\n",
        "        Parameters:\n",
        "        - X (pd.DataFrame): Input DataFrame.\n",
        "\n",
        "        Returns:\n",
        "        - X_dropped (pd.DataFrame): DataFrame with specified columns removed.\n",
        "        \"\"\"\n",
        "        if not self.drop_and_winsorize:\n",
        "            # Always drop 'sku' column and additional columns specified in drop_cols\n",
        "            X.drop('sku', axis=1)\n",
        "\n",
        "        columns_to_drop = ['sku'] + self.drop_cols\n",
        "        return X.drop(columns_to_drop, axis=1)\n",
        "\n",
        "    def create_pipeline(self):\n",
        "        \"\"\"\n",
        "        Construct and return a customized classification pipeline.\n",
        "\n",
        "        Returns:\n",
        "        - training_pipeline: A tailored pipeline for classification.\n",
        "        \"\"\"\n",
        "        # Conditional creation of imputer based on 'imputer_type'\n",
        "        if self.imputer_type == 'knn':\n",
        "            imp = KNNImputer(weights='distance', add_indicator=self.add_indicator)\n",
        "        else:\n",
        "            imp = SimpleImputer(strategy='median', add_indicator=self.add_indicator)\n",
        "\n",
        "        # Conditional initialization of cat_encoder based on 'keep_first'\n",
        "        cat_encoder = OneHotEncoder(drop='first') if self.keep_first else OneHotEncoder()\n",
        "\n",
        "        # Constructing the numerical pipeline\n",
        "        num_pipeline = Pipeline([\n",
        "            ('scaler', StandardScaler()),\n",
        "            ('imputer', imp),\n",
        "            ('outlier_clipping', Winsorizer(change=self.drop_and_winsorize)),\n",
        "        ])\n",
        "\n",
        "        # Constructing the categorical pipeline\n",
        "        cat_pipeline = Pipeline([\n",
        "            ('imputer', SimpleImputer(strategy='most_frequent')),\n",
        "            ('onehotencoder', cat_encoder),\n",
        "        ])\n",
        "\n",
        "        # Constructing the training pipeline\n",
        "        clf = self._create_classifier()\n",
        "        training_pipeline = Pipeline([\n",
        "            ('Drop_Columns', FunctionTransformer(self._drop_col)),\n",
        "            ('Balancing', RandomOverSampler()),\n",
        "            ('Feature_transform', ColumnTransformer([\n",
        "                ('num_pipeline', num_pipeline, self.num_cols_used),\n",
        "                ('cat_pipeline', cat_pipeline, self.cat_cols_used),\n",
        "            ])),\n",
        "            ('model', clf)\n",
        "        ])\n",
        "\n",
        "        return training_pipeline"
      ]
    },
    {
      "cell_type": "markdown",
      "metadata": {
        "id": "XKXqeezQ15yl"
      },
      "source": [
        "## `evaluate_and_plot` Function\n",
        "\n",
        "The `evaluate_and_plot` function is designed to evaluate a model's performance on training and validation (or test) data. It computes various performance metrics and displays the ROC curve to provide a visual representation of the model's ability to distinguish between the classes."
      ]
    },
    {
      "cell_type": "code",
      "execution_count": null,
      "metadata": {
        "id": "-rKcwLRO3PBy"
      },
      "outputs": [],
      "source": [
        "def evaluate_and_plot(y_train: np.array, y_val: np.array, y_train_pred: np.array,\n",
        "                      y_train_pred_proba: np.array, y_val_pred: np.array, y_val_pred_proba: np.array) -> None:\n",
        "    \"\"\"\n",
        "    Evaluate the model's performance on training and validation (or test) data\n",
        "    and plot the ROC curve for both datasets.\n",
        "\n",
        "    Parameters:\n",
        "    - y_train (np.array): True labels of the training dataset.\n",
        "    - y_val (np.array): True labels of the validation/test dataset.\n",
        "    - y_train_pred (np.array): Predicted labels of the training dataset.\n",
        "    - y_train_pred_proba (np.array): Predicted probabilities of the positive class for the training dataset.\n",
        "    - y_val_pred (np.array): Predicted labels of the validation/test dataset.\n",
        "    - y_val_pred_proba (np.array): Predicted probabilities of the positive class for the validation/test dataset.\n",
        "\n",
        "    Returns:\n",
        "    - None: This function only prints the evaluation metrics and displays the ROC plot.\n",
        "    \"\"\"\n",
        "\n",
        "    # Collecting model performance metrics\n",
        "    performance_metric = [balanced_accuracy_score, roc_auc_score, precision_score, recall_score, f1_score]\n",
        "    report = []\n",
        "\n",
        "    # Iterating over each metric and computing scores for both training and validation data\n",
        "    for metric in performance_metric:\n",
        "        if metric == roc_auc_score:\n",
        "            train_score = metric(y_train, y_train_pred_proba)\n",
        "            val_score = metric(y_val, y_val_pred_proba)\n",
        "        else:\n",
        "            train_score = metric(y_train, y_train_pred)\n",
        "            val_score = metric(y_val, y_val_pred)\n",
        "\n",
        "        report.append([metric.__name__, f'{train_score:.2f}', f'{val_score:.2f}'])\n",
        "\n",
        "    # Printing the evaluation report in a table format\n",
        "    report_table = tabulate(report, headers=[\"Metric\", \"Train Score\", \"Test Score\"], tablefmt=\"pretty\")\n",
        "    print('Model evaluation report:\\n')\n",
        "    print(report_table)\n",
        "\n",
        "    # Generating and printing the normalized confusion matrix for validation data\n",
        "    conf_matrix = confusion_matrix(y_val, y_val_pred, normalize='true') * 100\n",
        "    headers = [\"\", \"Predicted Negative\", \"Predicted Positive\"]\n",
        "    rows = [\n",
        "        [\"Actual Negative\", f\"TNR = {conf_matrix[0][0]:.2f}\", f\"FPR = {conf_matrix[0][1]:.2f}\"],\n",
        "        [\"Actual Positive\", f\"FNR = {conf_matrix[1][0]:.2f}\", f\"TPR = {conf_matrix[1][1]:.2f}\"]\n",
        "    ]\n",
        "    print('\\nValidation Confusion matrix:\\n')\n",
        "    print(tabulate(rows, headers=headers, tablefmt=\"pretty\"))\n",
        "    print('\\n')\n",
        "\n",
        "    # ROC Curve metrics computation\n",
        "    fpr_val, tpr_val, _ = roc_curve(y_val, y_val_pred_proba)\n",
        "    auc_val = auc(fpr_val, tpr_val)\n",
        "\n",
        "    fpr_train, tpr_train, _ = roc_curve(y_train, y_train_pred_proba)\n",
        "    auc_train = auc(fpr_train, tpr_train)\n",
        "\n",
        "    # Plotting ROC curves for both training and validation data\n",
        "    plt.figure(figsize=(8, 6))\n",
        "    plt.plot(fpr_train, tpr_train, color='green', label=f'Train AUC = {auc_train:.2f}')\n",
        "    plt.plot(fpr_val, tpr_val, color='blue', label=f'Test AUC = {auc_val:.2f}')\n",
        "    plt.plot([0, 1], [0, 1], color='gray', linestyle='--')\n",
        "    plt.xlabel('False Positive Rate')\n",
        "    plt.ylabel('True Positive Rate')\n",
        "    plt.title('ROC Curve - Train & Test')\n",
        "    plt.legend()\n",
        "    plt.show()"
      ]
    },
    {
      "cell_type": "markdown",
      "metadata": {
        "id": "2Qanj-wuZAYP"
      },
      "source": [
        "# Data Ingestion"
      ]
    },
    {
      "cell_type": "code",
      "execution_count": null,
      "metadata": {
        "colab": {
          "base_uri": "https://localhost:8080/",
          "height": 715
        },
        "id": "Ji7vGgK7WtlH",
        "outputId": "4c7a8979-f1c5-45b0-9554-d6224dd51556"
      },
      "outputs": [
        {
          "name": "stdout",
          "output_type": "stream",
          "text": [
            "--2023-09-01 16:43:39--  https://github.com/rodrigosantis1/backorder_prediction/raw/master/dataset.rar\n",
            "Resolving github.com (github.com)... 192.30.255.112\n",
            "Connecting to github.com (github.com)|192.30.255.112|:443... connected.\n",
            "HTTP request sent, awaiting response... 302 Found\n",
            "Location: https://raw.githubusercontent.com/rodrigosantis1/backorder_prediction/master/dataset.rar [following]\n",
            "--2023-09-01 16:43:40--  https://raw.githubusercontent.com/rodrigosantis1/backorder_prediction/master/dataset.rar\n",
            "Resolving raw.githubusercontent.com (raw.githubusercontent.com)... 185.199.110.133, 185.199.109.133, 185.199.111.133, ...\n",
            "Connecting to raw.githubusercontent.com (raw.githubusercontent.com)|185.199.110.133|:443... connected.\n",
            "HTTP request sent, awaiting response... 200 OK\n",
            "Length: 24741696 (24M) [application/octet-stream]\n",
            "Saving to: ‘dataset/dataset.rar’\n",
            "\n",
            "dataset/dataset.rar 100%[===================>]  23.59M  --.-KB/s    in 0.1s    \n",
            "\n",
            "2023-09-01 16:43:40 (187 MB/s) - ‘dataset/dataset.rar’ saved [24741696/24741696]\n",
            "\n",
            "patool: Extracting dataset/dataset.rar ...\n",
            "patool: running /usr/bin/unrar x -- /content/dataset/dataset.rar\n",
            "patool:     with cwd='dataset'\n"
          ]
        },
        {
          "ename": "PatoolError",
          "evalue": "ignored",
          "output_type": "error",
          "traceback": [
            "\u001b[0;31m---------------------------------------------------------------------------\u001b[0m",
            "\u001b[0;31mPatoolError\u001b[0m                               Traceback (most recent call last)",
            "\u001b[0;32m<ipython-input-12-bfb6c812e9d4>\u001b[0m in \u001b[0;36m<cell line: 9>\u001b[0;34m()\u001b[0m\n\u001b[1;32m      7\u001b[0m \u001b[0;34m\u001b[0m\u001b[0m\n\u001b[1;32m      8\u001b[0m \u001b[0;31m# Extract the RAR file\u001b[0m\u001b[0;34m\u001b[0m\u001b[0;34m\u001b[0m\u001b[0m\n\u001b[0;32m----> 9\u001b[0;31m \u001b[0mpatoolib\u001b[0m\u001b[0;34m.\u001b[0m\u001b[0mextract_archive\u001b[0m\u001b[0;34m(\u001b[0m\u001b[0;34m\"dataset/dataset.rar\"\u001b[0m\u001b[0;34m,\u001b[0m \u001b[0moutdir\u001b[0m\u001b[0;34m=\u001b[0m\u001b[0;34m\"dataset\"\u001b[0m\u001b[0;34m)\u001b[0m\u001b[0;34m\u001b[0m\u001b[0;34m\u001b[0m\u001b[0m\n\u001b[0m",
            "\u001b[0;32m/usr/local/lib/python3.10/dist-packages/patoolib/__init__.py\u001b[0m in \u001b[0;36mextract_archive\u001b[0;34m(archive, verbosity, outdir, program, interactive)\u001b[0m\n\u001b[1;32m    682\u001b[0m     \u001b[0;32mif\u001b[0m \u001b[0mverbosity\u001b[0m \u001b[0;34m>=\u001b[0m \u001b[0;36m0\u001b[0m\u001b[0;34m:\u001b[0m\u001b[0;34m\u001b[0m\u001b[0;34m\u001b[0m\u001b[0m\n\u001b[1;32m    683\u001b[0m         \u001b[0mutil\u001b[0m\u001b[0;34m.\u001b[0m\u001b[0mlog_info\u001b[0m\u001b[0;34m(\u001b[0m\u001b[0;34m\"Extracting %s ...\"\u001b[0m \u001b[0;34m%\u001b[0m \u001b[0marchive\u001b[0m\u001b[0;34m)\u001b[0m\u001b[0;34m\u001b[0m\u001b[0;34m\u001b[0m\u001b[0m\n\u001b[0;32m--> 684\u001b[0;31m     \u001b[0;32mreturn\u001b[0m \u001b[0m_extract_archive\u001b[0m\u001b[0;34m(\u001b[0m\u001b[0marchive\u001b[0m\u001b[0;34m,\u001b[0m \u001b[0mverbosity\u001b[0m\u001b[0;34m=\u001b[0m\u001b[0mverbosity\u001b[0m\u001b[0;34m,\u001b[0m \u001b[0minteractive\u001b[0m\u001b[0;34m=\u001b[0m\u001b[0minteractive\u001b[0m\u001b[0;34m,\u001b[0m \u001b[0moutdir\u001b[0m\u001b[0;34m=\u001b[0m\u001b[0moutdir\u001b[0m\u001b[0;34m,\u001b[0m \u001b[0mprogram\u001b[0m\u001b[0;34m=\u001b[0m\u001b[0mprogram\u001b[0m\u001b[0;34m)\u001b[0m\u001b[0;34m\u001b[0m\u001b[0;34m\u001b[0m\u001b[0m\n\u001b[0m\u001b[1;32m    685\u001b[0m \u001b[0;34m\u001b[0m\u001b[0m\n\u001b[1;32m    686\u001b[0m \u001b[0;34m\u001b[0m\u001b[0m\n",
            "\u001b[0;32m/usr/local/lib/python3.10/dist-packages/patoolib/__init__.py\u001b[0m in \u001b[0;36m_extract_archive\u001b[0;34m(archive, verbosity, interactive, outdir, program, format, compression)\u001b[0m\n\u001b[1;32m    482\u001b[0m             \u001b[0;31m# already handled the command (eg. when it's a builtin Python\u001b[0m\u001b[0;34m\u001b[0m\u001b[0;34m\u001b[0m\u001b[0m\n\u001b[1;32m    483\u001b[0m             \u001b[0;31m# function)\u001b[0m\u001b[0;34m\u001b[0m\u001b[0;34m\u001b[0m\u001b[0m\n\u001b[0;32m--> 484\u001b[0;31m             \u001b[0mrun_archive_cmdlist\u001b[0m\u001b[0;34m(\u001b[0m\u001b[0mcmdlist\u001b[0m\u001b[0;34m,\u001b[0m \u001b[0mverbosity\u001b[0m\u001b[0;34m=\u001b[0m\u001b[0mverbosity\u001b[0m\u001b[0;34m)\u001b[0m\u001b[0;34m\u001b[0m\u001b[0;34m\u001b[0m\u001b[0m\n\u001b[0m\u001b[1;32m    485\u001b[0m         \u001b[0;32mif\u001b[0m \u001b[0mdo_cleanup_outdir\u001b[0m\u001b[0;34m:\u001b[0m\u001b[0;34m\u001b[0m\u001b[0;34m\u001b[0m\u001b[0m\n\u001b[1;32m    486\u001b[0m             \u001b[0mtarget\u001b[0m\u001b[0;34m,\u001b[0m \u001b[0mmsg\u001b[0m \u001b[0;34m=\u001b[0m \u001b[0mcleanup_outdir\u001b[0m\u001b[0;34m(\u001b[0m\u001b[0moutdir\u001b[0m\u001b[0;34m,\u001b[0m \u001b[0marchive\u001b[0m\u001b[0;34m)\u001b[0m\u001b[0;34m\u001b[0m\u001b[0;34m\u001b[0m\u001b[0m\n",
            "\u001b[0;32m/usr/local/lib/python3.10/dist-packages/patoolib/__init__.py\u001b[0m in \u001b[0;36mrun_archive_cmdlist\u001b[0;34m(archive_cmdlist, verbosity)\u001b[0m\n\u001b[1;32m    419\u001b[0m     \u001b[0;32melse\u001b[0m\u001b[0;34m:\u001b[0m\u001b[0;34m\u001b[0m\u001b[0;34m\u001b[0m\u001b[0m\n\u001b[1;32m    420\u001b[0m         \u001b[0mcmdlist\u001b[0m\u001b[0;34m,\u001b[0m \u001b[0mrunkwargs\u001b[0m \u001b[0;34m=\u001b[0m \u001b[0marchive_cmdlist\u001b[0m\u001b[0;34m,\u001b[0m \u001b[0;34m{\u001b[0m\u001b[0;34m}\u001b[0m\u001b[0;34m\u001b[0m\u001b[0;34m\u001b[0m\u001b[0m\n\u001b[0;32m--> 421\u001b[0;31m     \u001b[0;32mreturn\u001b[0m \u001b[0mutil\u001b[0m\u001b[0;34m.\u001b[0m\u001b[0mrun_checked\u001b[0m\u001b[0;34m(\u001b[0m\u001b[0mcmdlist\u001b[0m\u001b[0;34m,\u001b[0m \u001b[0mverbosity\u001b[0m\u001b[0;34m=\u001b[0m\u001b[0mverbosity\u001b[0m\u001b[0;34m,\u001b[0m \u001b[0;34m**\u001b[0m\u001b[0mrunkwargs\u001b[0m\u001b[0;34m)\u001b[0m\u001b[0;34m\u001b[0m\u001b[0;34m\u001b[0m\u001b[0m\n\u001b[0m\u001b[1;32m    422\u001b[0m \u001b[0;34m\u001b[0m\u001b[0m\n\u001b[1;32m    423\u001b[0m \u001b[0;34m\u001b[0m\u001b[0m\n",
            "\u001b[0;32m/usr/local/lib/python3.10/dist-packages/patoolib/util.py\u001b[0m in \u001b[0;36mrun_checked\u001b[0;34m(cmd, ret_ok, **kwargs)\u001b[0m\n\u001b[1;32m    225\u001b[0m     \u001b[0;32mif\u001b[0m \u001b[0mretcode\u001b[0m \u001b[0;32mnot\u001b[0m \u001b[0;32min\u001b[0m \u001b[0mret_ok\u001b[0m\u001b[0;34m:\u001b[0m\u001b[0;34m\u001b[0m\u001b[0;34m\u001b[0m\u001b[0m\n\u001b[1;32m    226\u001b[0m         \u001b[0mmsg\u001b[0m \u001b[0;34m=\u001b[0m \u001b[0;34m\"Command `%s' returned non-zero exit status %d\"\u001b[0m \u001b[0;34m%\u001b[0m \u001b[0;34m(\u001b[0m\u001b[0mcmd\u001b[0m\u001b[0;34m,\u001b[0m \u001b[0mretcode\u001b[0m\u001b[0;34m)\u001b[0m\u001b[0;34m\u001b[0m\u001b[0;34m\u001b[0m\u001b[0m\n\u001b[0;32m--> 227\u001b[0;31m         \u001b[0;32mraise\u001b[0m \u001b[0mPatoolError\u001b[0m\u001b[0;34m(\u001b[0m\u001b[0mmsg\u001b[0m\u001b[0;34m)\u001b[0m\u001b[0;34m\u001b[0m\u001b[0;34m\u001b[0m\u001b[0m\n\u001b[0m\u001b[1;32m    228\u001b[0m     \u001b[0;32mreturn\u001b[0m \u001b[0mretcode\u001b[0m\u001b[0;34m\u001b[0m\u001b[0;34m\u001b[0m\u001b[0m\n\u001b[1;32m    229\u001b[0m \u001b[0;34m\u001b[0m\u001b[0m\n",
            "\u001b[0;31mPatoolError\u001b[0m: Command `['/usr/bin/unrar', 'x', '--', '/content/dataset/dataset.rar']' returned non-zero exit status 255"
          ]
        }
      ],
      "source": [
        "\n",
        "# Create a directory to store the dataset\n",
        "if not os.path.exists(\"dataset\"):\n",
        "    os.makedirs(\"dataset\")\n",
        "\n",
        "# Download the RAR file from GitHub\n",
        "!wget -O dataset/dataset.rar https://github.com/rodrigosantis1/backorder_prediction/raw/master/dataset.rar\n",
        "\n",
        "# Extract the RAR file\n",
        "patoolib.extract_archive(\"dataset/dataset.rar\", outdir=\"dataset\")"
      ]
    },
    {
      "cell_type": "code",
      "execution_count": null,
      "metadata": {
        "colab": {
          "base_uri": "https://localhost:8080/"
        },
        "id": "m_JU4LKkpFSX",
        "outputId": "ac6e5ba0-7fe4-4070-c8c7-7f2e247f6f82"
      },
      "outputs": [
        {
          "data": {
            "text/plain": [
              "(1687861, 23)"
            ]
          },
          "execution_count": 29,
          "metadata": {},
          "output_type": "execute_result"
        }
      ],
      "source": [
        "# reading th data\n",
        "raw_data = pd.read_csv(r\"/content/dataset/Kaggle_Training_Dataset_v2.csv\")\n",
        "raw_data.shape"
      ]
    },
    {
      "cell_type": "code",
      "execution_count": null,
      "metadata": {
        "colab": {
          "base_uri": "https://localhost:8080/",
          "height": 461
        },
        "id": "2efQtjdnZZkO",
        "outputId": "6bc26aab-bd6f-4f84-db59-86712e7d2f46"
      },
      "outputs": [
        {
          "data": {
            "text/html": [
              "\n",
              "  <div id=\"df-761af413-c346-468b-9e3d-023e8bb577ae\" class=\"colab-df-container\">\n",
              "    <div>\n",
              "<style scoped>\n",
              "    .dataframe tbody tr th:only-of-type {\n",
              "        vertical-align: middle;\n",
              "    }\n",
              "\n",
              "    .dataframe tbody tr th {\n",
              "        vertical-align: top;\n",
              "    }\n",
              "\n",
              "    .dataframe thead th {\n",
              "        text-align: right;\n",
              "    }\n",
              "</style>\n",
              "<table border=\"1\" class=\"dataframe\">\n",
              "  <thead>\n",
              "    <tr style=\"text-align: right;\">\n",
              "      <th></th>\n",
              "      <th>sku</th>\n",
              "      <th>national_inv</th>\n",
              "      <th>lead_time</th>\n",
              "      <th>in_transit_qty</th>\n",
              "      <th>forecast_3_month</th>\n",
              "      <th>forecast_6_month</th>\n",
              "      <th>forecast_9_month</th>\n",
              "      <th>sales_1_month</th>\n",
              "      <th>sales_3_month</th>\n",
              "      <th>sales_6_month</th>\n",
              "      <th>...</th>\n",
              "      <th>pieces_past_due</th>\n",
              "      <th>perf_6_month_avg</th>\n",
              "      <th>perf_12_month_avg</th>\n",
              "      <th>local_bo_qty</th>\n",
              "      <th>deck_risk</th>\n",
              "      <th>oe_constraint</th>\n",
              "      <th>ppap_risk</th>\n",
              "      <th>stop_auto_buy</th>\n",
              "      <th>rev_stop</th>\n",
              "      <th>went_on_backorder</th>\n",
              "    </tr>\n",
              "  </thead>\n",
              "  <tbody>\n",
              "    <tr>\n",
              "      <th>0</th>\n",
              "      <td>1026827</td>\n",
              "      <td>0.0</td>\n",
              "      <td>NaN</td>\n",
              "      <td>0.0</td>\n",
              "      <td>0.0</td>\n",
              "      <td>0.0</td>\n",
              "      <td>0.0</td>\n",
              "      <td>0.0</td>\n",
              "      <td>0.0</td>\n",
              "      <td>0.0</td>\n",
              "      <td>...</td>\n",
              "      <td>0.0</td>\n",
              "      <td>-99.00</td>\n",
              "      <td>-99.00</td>\n",
              "      <td>0.0</td>\n",
              "      <td>No</td>\n",
              "      <td>No</td>\n",
              "      <td>No</td>\n",
              "      <td>Yes</td>\n",
              "      <td>No</td>\n",
              "      <td>No</td>\n",
              "    </tr>\n",
              "    <tr>\n",
              "      <th>1</th>\n",
              "      <td>1043384</td>\n",
              "      <td>2.0</td>\n",
              "      <td>9.0</td>\n",
              "      <td>0.0</td>\n",
              "      <td>0.0</td>\n",
              "      <td>0.0</td>\n",
              "      <td>0.0</td>\n",
              "      <td>0.0</td>\n",
              "      <td>0.0</td>\n",
              "      <td>0.0</td>\n",
              "      <td>...</td>\n",
              "      <td>0.0</td>\n",
              "      <td>0.99</td>\n",
              "      <td>0.99</td>\n",
              "      <td>0.0</td>\n",
              "      <td>No</td>\n",
              "      <td>No</td>\n",
              "      <td>No</td>\n",
              "      <td>Yes</td>\n",
              "      <td>No</td>\n",
              "      <td>No</td>\n",
              "    </tr>\n",
              "    <tr>\n",
              "      <th>2</th>\n",
              "      <td>1043696</td>\n",
              "      <td>2.0</td>\n",
              "      <td>NaN</td>\n",
              "      <td>0.0</td>\n",
              "      <td>0.0</td>\n",
              "      <td>0.0</td>\n",
              "      <td>0.0</td>\n",
              "      <td>0.0</td>\n",
              "      <td>0.0</td>\n",
              "      <td>0.0</td>\n",
              "      <td>...</td>\n",
              "      <td>0.0</td>\n",
              "      <td>-99.00</td>\n",
              "      <td>-99.00</td>\n",
              "      <td>0.0</td>\n",
              "      <td>Yes</td>\n",
              "      <td>No</td>\n",
              "      <td>No</td>\n",
              "      <td>Yes</td>\n",
              "      <td>No</td>\n",
              "      <td>No</td>\n",
              "    </tr>\n",
              "    <tr>\n",
              "      <th>3</th>\n",
              "      <td>1043852</td>\n",
              "      <td>7.0</td>\n",
              "      <td>8.0</td>\n",
              "      <td>0.0</td>\n",
              "      <td>0.0</td>\n",
              "      <td>0.0</td>\n",
              "      <td>0.0</td>\n",
              "      <td>0.0</td>\n",
              "      <td>0.0</td>\n",
              "      <td>0.0</td>\n",
              "      <td>...</td>\n",
              "      <td>0.0</td>\n",
              "      <td>0.10</td>\n",
              "      <td>0.13</td>\n",
              "      <td>0.0</td>\n",
              "      <td>No</td>\n",
              "      <td>No</td>\n",
              "      <td>No</td>\n",
              "      <td>Yes</td>\n",
              "      <td>No</td>\n",
              "      <td>No</td>\n",
              "    </tr>\n",
              "    <tr>\n",
              "      <th>4</th>\n",
              "      <td>1044048</td>\n",
              "      <td>8.0</td>\n",
              "      <td>NaN</td>\n",
              "      <td>0.0</td>\n",
              "      <td>0.0</td>\n",
              "      <td>0.0</td>\n",
              "      <td>0.0</td>\n",
              "      <td>0.0</td>\n",
              "      <td>0.0</td>\n",
              "      <td>0.0</td>\n",
              "      <td>...</td>\n",
              "      <td>0.0</td>\n",
              "      <td>-99.00</td>\n",
              "      <td>-99.00</td>\n",
              "      <td>0.0</td>\n",
              "      <td>Yes</td>\n",
              "      <td>No</td>\n",
              "      <td>No</td>\n",
              "      <td>Yes</td>\n",
              "      <td>No</td>\n",
              "      <td>No</td>\n",
              "    </tr>\n",
              "    <tr>\n",
              "      <th>...</th>\n",
              "      <td>...</td>\n",
              "      <td>...</td>\n",
              "      <td>...</td>\n",
              "      <td>...</td>\n",
              "      <td>...</td>\n",
              "      <td>...</td>\n",
              "      <td>...</td>\n",
              "      <td>...</td>\n",
              "      <td>...</td>\n",
              "      <td>...</td>\n",
              "      <td>...</td>\n",
              "      <td>...</td>\n",
              "      <td>...</td>\n",
              "      <td>...</td>\n",
              "      <td>...</td>\n",
              "      <td>...</td>\n",
              "      <td>...</td>\n",
              "      <td>...</td>\n",
              "      <td>...</td>\n",
              "      <td>...</td>\n",
              "      <td>...</td>\n",
              "    </tr>\n",
              "    <tr>\n",
              "      <th>1687856</th>\n",
              "      <td>1373987</td>\n",
              "      <td>-1.0</td>\n",
              "      <td>NaN</td>\n",
              "      <td>0.0</td>\n",
              "      <td>5.0</td>\n",
              "      <td>7.0</td>\n",
              "      <td>9.0</td>\n",
              "      <td>1.0</td>\n",
              "      <td>3.0</td>\n",
              "      <td>3.0</td>\n",
              "      <td>...</td>\n",
              "      <td>0.0</td>\n",
              "      <td>-99.00</td>\n",
              "      <td>-99.00</td>\n",
              "      <td>1.0</td>\n",
              "      <td>No</td>\n",
              "      <td>No</td>\n",
              "      <td>No</td>\n",
              "      <td>Yes</td>\n",
              "      <td>No</td>\n",
              "      <td>No</td>\n",
              "    </tr>\n",
              "    <tr>\n",
              "      <th>1687857</th>\n",
              "      <td>1524346</td>\n",
              "      <td>-1.0</td>\n",
              "      <td>9.0</td>\n",
              "      <td>0.0</td>\n",
              "      <td>7.0</td>\n",
              "      <td>9.0</td>\n",
              "      <td>11.0</td>\n",
              "      <td>0.0</td>\n",
              "      <td>8.0</td>\n",
              "      <td>11.0</td>\n",
              "      <td>...</td>\n",
              "      <td>0.0</td>\n",
              "      <td>0.86</td>\n",
              "      <td>0.84</td>\n",
              "      <td>1.0</td>\n",
              "      <td>Yes</td>\n",
              "      <td>No</td>\n",
              "      <td>No</td>\n",
              "      <td>No</td>\n",
              "      <td>No</td>\n",
              "      <td>Yes</td>\n",
              "    </tr>\n",
              "    <tr>\n",
              "      <th>1687858</th>\n",
              "      <td>1439563</td>\n",
              "      <td>62.0</td>\n",
              "      <td>9.0</td>\n",
              "      <td>16.0</td>\n",
              "      <td>39.0</td>\n",
              "      <td>87.0</td>\n",
              "      <td>126.0</td>\n",
              "      <td>35.0</td>\n",
              "      <td>63.0</td>\n",
              "      <td>153.0</td>\n",
              "      <td>...</td>\n",
              "      <td>0.0</td>\n",
              "      <td>0.86</td>\n",
              "      <td>0.84</td>\n",
              "      <td>6.0</td>\n",
              "      <td>No</td>\n",
              "      <td>No</td>\n",
              "      <td>No</td>\n",
              "      <td>Yes</td>\n",
              "      <td>No</td>\n",
              "      <td>No</td>\n",
              "    </tr>\n",
              "    <tr>\n",
              "      <th>1687859</th>\n",
              "      <td>1502009</td>\n",
              "      <td>19.0</td>\n",
              "      <td>4.0</td>\n",
              "      <td>0.0</td>\n",
              "      <td>0.0</td>\n",
              "      <td>0.0</td>\n",
              "      <td>0.0</td>\n",
              "      <td>2.0</td>\n",
              "      <td>7.0</td>\n",
              "      <td>12.0</td>\n",
              "      <td>...</td>\n",
              "      <td>0.0</td>\n",
              "      <td>0.73</td>\n",
              "      <td>0.78</td>\n",
              "      <td>1.0</td>\n",
              "      <td>No</td>\n",
              "      <td>No</td>\n",
              "      <td>No</td>\n",
              "      <td>Yes</td>\n",
              "      <td>No</td>\n",
              "      <td>No</td>\n",
              "    </tr>\n",
              "    <tr>\n",
              "      <th>1687860</th>\n",
              "      <td>(1687860 rows)</td>\n",
              "      <td>NaN</td>\n",
              "      <td>NaN</td>\n",
              "      <td>NaN</td>\n",
              "      <td>NaN</td>\n",
              "      <td>NaN</td>\n",
              "      <td>NaN</td>\n",
              "      <td>NaN</td>\n",
              "      <td>NaN</td>\n",
              "      <td>NaN</td>\n",
              "      <td>...</td>\n",
              "      <td>NaN</td>\n",
              "      <td>NaN</td>\n",
              "      <td>NaN</td>\n",
              "      <td>NaN</td>\n",
              "      <td>NaN</td>\n",
              "      <td>NaN</td>\n",
              "      <td>NaN</td>\n",
              "      <td>NaN</td>\n",
              "      <td>NaN</td>\n",
              "      <td>NaN</td>\n",
              "    </tr>\n",
              "  </tbody>\n",
              "</table>\n",
              "<p>1687861 rows × 23 columns</p>\n",
              "</div>\n",
              "    <div class=\"colab-df-buttons\">\n",
              "\n",
              "  <div class=\"colab-df-container\">\n",
              "    <button class=\"colab-df-convert\" onclick=\"convertToInteractive('df-761af413-c346-468b-9e3d-023e8bb577ae')\"\n",
              "            title=\"Convert this dataframe to an interactive table.\"\n",
              "            style=\"display:none;\">\n",
              "\n",
              "  <svg xmlns=\"http://www.w3.org/2000/svg\" height=\"24px\" viewBox=\"0 -960 960 960\">\n",
              "    <path d=\"M120-120v-720h720v720H120Zm60-500h600v-160H180v160Zm220 220h160v-160H400v160Zm0 220h160v-160H400v160ZM180-400h160v-160H180v160Zm440 0h160v-160H620v160ZM180-180h160v-160H180v160Zm440 0h160v-160H620v160Z\"/>\n",
              "  </svg>\n",
              "    </button>\n",
              "\n",
              "  <style>\n",
              "    .colab-df-container {\n",
              "      display:flex;\n",
              "      gap: 12px;\n",
              "    }\n",
              "\n",
              "    .colab-df-convert {\n",
              "      background-color: #E8F0FE;\n",
              "      border: none;\n",
              "      border-radius: 50%;\n",
              "      cursor: pointer;\n",
              "      display: none;\n",
              "      fill: #1967D2;\n",
              "      height: 32px;\n",
              "      padding: 0 0 0 0;\n",
              "      width: 32px;\n",
              "    }\n",
              "\n",
              "    .colab-df-convert:hover {\n",
              "      background-color: #E2EBFA;\n",
              "      box-shadow: 0px 1px 2px rgba(60, 64, 67, 0.3), 0px 1px 3px 1px rgba(60, 64, 67, 0.15);\n",
              "      fill: #174EA6;\n",
              "    }\n",
              "\n",
              "    .colab-df-buttons div {\n",
              "      margin-bottom: 4px;\n",
              "    }\n",
              "\n",
              "    [theme=dark] .colab-df-convert {\n",
              "      background-color: #3B4455;\n",
              "      fill: #D2E3FC;\n",
              "    }\n",
              "\n",
              "    [theme=dark] .colab-df-convert:hover {\n",
              "      background-color: #434B5C;\n",
              "      box-shadow: 0px 1px 3px 1px rgba(0, 0, 0, 0.15);\n",
              "      filter: drop-shadow(0px 1px 2px rgba(0, 0, 0, 0.3));\n",
              "      fill: #FFFFFF;\n",
              "    }\n",
              "  </style>\n",
              "\n",
              "    <script>\n",
              "      const buttonEl =\n",
              "        document.querySelector('#df-761af413-c346-468b-9e3d-023e8bb577ae button.colab-df-convert');\n",
              "      buttonEl.style.display =\n",
              "        google.colab.kernel.accessAllowed ? 'block' : 'none';\n",
              "\n",
              "      async function convertToInteractive(key) {\n",
              "        const element = document.querySelector('#df-761af413-c346-468b-9e3d-023e8bb577ae');\n",
              "        const dataTable =\n",
              "          await google.colab.kernel.invokeFunction('convertToInteractive',\n",
              "                                                    [key], {});\n",
              "        if (!dataTable) return;\n",
              "\n",
              "        const docLinkHtml = 'Like what you see? Visit the ' +\n",
              "          '<a target=\"_blank\" href=https://colab.research.google.com/notebooks/data_table.ipynb>data table notebook</a>'\n",
              "          + ' to learn more about interactive tables.';\n",
              "        element.innerHTML = '';\n",
              "        dataTable['output_type'] = 'display_data';\n",
              "        await google.colab.output.renderOutput(dataTable, element);\n",
              "        const docLink = document.createElement('div');\n",
              "        docLink.innerHTML = docLinkHtml;\n",
              "        element.appendChild(docLink);\n",
              "      }\n",
              "    </script>\n",
              "  </div>\n",
              "\n",
              "\n",
              "<div id=\"df-13dc9c88-e8c0-449c-bb05-cd58bf4b2fc1\">\n",
              "  <button class=\"colab-df-quickchart\" onclick=\"quickchart('df-13dc9c88-e8c0-449c-bb05-cd58bf4b2fc1')\"\n",
              "            title=\"Suggest charts.\"\n",
              "            style=\"display:none;\">\n",
              "\n",
              "<svg xmlns=\"http://www.w3.org/2000/svg\" height=\"24px\"viewBox=\"0 0 24 24\"\n",
              "     width=\"24px\">\n",
              "    <g>\n",
              "        <path d=\"M19 3H5c-1.1 0-2 .9-2 2v14c0 1.1.9 2 2 2h14c1.1 0 2-.9 2-2V5c0-1.1-.9-2-2-2zM9 17H7v-7h2v7zm4 0h-2V7h2v10zm4 0h-2v-4h2v4z\"/>\n",
              "    </g>\n",
              "</svg>\n",
              "  </button>\n",
              "\n",
              "<style>\n",
              "  .colab-df-quickchart {\n",
              "    background-color: #E8F0FE;\n",
              "    border: none;\n",
              "    border-radius: 50%;\n",
              "    cursor: pointer;\n",
              "    display: none;\n",
              "    fill: #1967D2;\n",
              "    height: 32px;\n",
              "    padding: 0 0 0 0;\n",
              "    width: 32px;\n",
              "  }\n",
              "\n",
              "  .colab-df-quickchart:hover {\n",
              "    background-color: #E2EBFA;\n",
              "    box-shadow: 0px 1px 2px rgba(60, 64, 67, 0.3), 0px 1px 3px 1px rgba(60, 64, 67, 0.15);\n",
              "    fill: #174EA6;\n",
              "  }\n",
              "\n",
              "  [theme=dark] .colab-df-quickchart {\n",
              "    background-color: #3B4455;\n",
              "    fill: #D2E3FC;\n",
              "  }\n",
              "\n",
              "  [theme=dark] .colab-df-quickchart:hover {\n",
              "    background-color: #434B5C;\n",
              "    box-shadow: 0px 1px 3px 1px rgba(0, 0, 0, 0.15);\n",
              "    filter: drop-shadow(0px 1px 2px rgba(0, 0, 0, 0.3));\n",
              "    fill: #FFFFFF;\n",
              "  }\n",
              "</style>\n",
              "\n",
              "  <script>\n",
              "    async function quickchart(key) {\n",
              "      const charts = await google.colab.kernel.invokeFunction(\n",
              "          'suggestCharts', [key], {});\n",
              "    }\n",
              "    (() => {\n",
              "      let quickchartButtonEl =\n",
              "        document.querySelector('#df-13dc9c88-e8c0-449c-bb05-cd58bf4b2fc1 button');\n",
              "      quickchartButtonEl.style.display =\n",
              "        google.colab.kernel.accessAllowed ? 'block' : 'none';\n",
              "    })();\n",
              "  </script>\n",
              "</div>\n",
              "    </div>\n",
              "  </div>\n"
            ],
            "text/plain": [
              "                    sku  national_inv  lead_time  in_transit_qty  \\\n",
              "0               1026827           0.0        NaN             0.0   \n",
              "1               1043384           2.0        9.0             0.0   \n",
              "2               1043696           2.0        NaN             0.0   \n",
              "3               1043852           7.0        8.0             0.0   \n",
              "4               1044048           8.0        NaN             0.0   \n",
              "...                 ...           ...        ...             ...   \n",
              "1687856         1373987          -1.0        NaN             0.0   \n",
              "1687857         1524346          -1.0        9.0             0.0   \n",
              "1687858         1439563          62.0        9.0            16.0   \n",
              "1687859         1502009          19.0        4.0             0.0   \n",
              "1687860  (1687860 rows)           NaN        NaN             NaN   \n",
              "\n",
              "         forecast_3_month  forecast_6_month  forecast_9_month  sales_1_month  \\\n",
              "0                     0.0               0.0               0.0            0.0   \n",
              "1                     0.0               0.0               0.0            0.0   \n",
              "2                     0.0               0.0               0.0            0.0   \n",
              "3                     0.0               0.0               0.0            0.0   \n",
              "4                     0.0               0.0               0.0            0.0   \n",
              "...                   ...               ...               ...            ...   \n",
              "1687856               5.0               7.0               9.0            1.0   \n",
              "1687857               7.0               9.0              11.0            0.0   \n",
              "1687858              39.0              87.0             126.0           35.0   \n",
              "1687859               0.0               0.0               0.0            2.0   \n",
              "1687860               NaN               NaN               NaN            NaN   \n",
              "\n",
              "         sales_3_month  sales_6_month  ...  pieces_past_due  perf_6_month_avg  \\\n",
              "0                  0.0            0.0  ...              0.0            -99.00   \n",
              "1                  0.0            0.0  ...              0.0              0.99   \n",
              "2                  0.0            0.0  ...              0.0            -99.00   \n",
              "3                  0.0            0.0  ...              0.0              0.10   \n",
              "4                  0.0            0.0  ...              0.0            -99.00   \n",
              "...                ...            ...  ...              ...               ...   \n",
              "1687856            3.0            3.0  ...              0.0            -99.00   \n",
              "1687857            8.0           11.0  ...              0.0              0.86   \n",
              "1687858           63.0          153.0  ...              0.0              0.86   \n",
              "1687859            7.0           12.0  ...              0.0              0.73   \n",
              "1687860            NaN            NaN  ...              NaN               NaN   \n",
              "\n",
              "        perf_12_month_avg  local_bo_qty  deck_risk  oe_constraint  ppap_risk  \\\n",
              "0                  -99.00           0.0         No             No         No   \n",
              "1                    0.99           0.0         No             No         No   \n",
              "2                  -99.00           0.0        Yes             No         No   \n",
              "3                    0.13           0.0         No             No         No   \n",
              "4                  -99.00           0.0        Yes             No         No   \n",
              "...                   ...           ...        ...            ...        ...   \n",
              "1687856            -99.00           1.0         No             No         No   \n",
              "1687857              0.84           1.0        Yes             No         No   \n",
              "1687858              0.84           6.0         No             No         No   \n",
              "1687859              0.78           1.0         No             No         No   \n",
              "1687860               NaN           NaN        NaN            NaN        NaN   \n",
              "\n",
              "        stop_auto_buy rev_stop went_on_backorder  \n",
              "0                 Yes       No                No  \n",
              "1                 Yes       No                No  \n",
              "2                 Yes       No                No  \n",
              "3                 Yes       No                No  \n",
              "4                 Yes       No                No  \n",
              "...               ...      ...               ...  \n",
              "1687856           Yes       No                No  \n",
              "1687857            No       No               Yes  \n",
              "1687858           Yes       No                No  \n",
              "1687859           Yes       No                No  \n",
              "1687860           NaN      NaN               NaN  \n",
              "\n",
              "[1687861 rows x 23 columns]"
            ]
          },
          "execution_count": 8,
          "metadata": {},
          "output_type": "execute_result"
        }
      ],
      "source": [
        "raw_data"
      ]
    },
    {
      "cell_type": "markdown",
      "metadata": {
        "id": "BTKRddsdAkr4"
      },
      "source": [
        "# Data cleaning"
      ]
    },
    {
      "cell_type": "code",
      "execution_count": null,
      "metadata": {
        "colab": {
          "base_uri": "https://localhost:8080/"
        },
        "id": "a_zy3AIJxY-8",
        "outputId": "717682a5-fe97-4fa0-b845-c4894ab843dd"
      },
      "outputs": [
        {
          "name": "stdout",
          "output_type": "stream",
          "text": [
            "Shape of data before dropping na (1687861, 23)\n",
            "\n",
            "Shape of data after dropping na (1687860, 23)\n",
            "\n"
          ]
        }
      ],
      "source": [
        "# dropping the na record for all the features except for feature 'lead_time'\n",
        "\n",
        "print(f\"Shape of data before dropping na {raw_data.shape}\\n\")\n",
        "raw_data.dropna(subset=raw_data.columns.drop('lead_time'),inplace=True)\n",
        "print(f\"Shape of data after dropping na {raw_data.shape}\\n\")"
      ]
    },
    {
      "cell_type": "markdown",
      "metadata": {
        "id": "HY5O4EyvAttu"
      },
      "source": [
        "# Expermentin with different ML training pipeline using optuna   "
      ]
    },
    {
      "cell_type": "markdown",
      "metadata": {
        "id": "g727vQzMp1pz"
      },
      "source": [
        "## Preparing required Variables for optimizing the objective function"
      ]
    },
    {
      "cell_type": "code",
      "execution_count": null,
      "metadata": {
        "colab": {
          "base_uri": "https://localhost:8080/"
        },
        "id": "zFalZNzmu_sD",
        "outputId": "f8ce0045-0958-4b06-b3a7-1463d782f247"
      },
      "outputs": [
        {
          "data": {
            "text/plain": [
              "sku                   object\n",
              "national_inv         float64\n",
              "lead_time            float64\n",
              "in_transit_qty       float64\n",
              "forecast_3_month     float64\n",
              "forecast_6_month     float64\n",
              "forecast_9_month     float64\n",
              "sales_1_month        float64\n",
              "sales_3_month        float64\n",
              "sales_6_month        float64\n",
              "sales_9_month        float64\n",
              "min_bank             float64\n",
              "potential_issue       object\n",
              "pieces_past_due      float64\n",
              "perf_6_month_avg     float64\n",
              "perf_12_month_avg    float64\n",
              "local_bo_qty         float64\n",
              "deck_risk             object\n",
              "oe_constraint         object\n",
              "ppap_risk             object\n",
              "stop_auto_buy         object\n",
              "rev_stop              object\n",
              "went_on_backorder     object\n",
              "dtype: object"
            ]
          },
          "execution_count": 10,
          "metadata": {},
          "output_type": "execute_result"
        }
      ],
      "source": [
        "raw_data.dtypes"
      ]
    },
    {
      "cell_type": "code",
      "execution_count": null,
      "metadata": {
        "colab": {
          "base_uri": "https://localhost:8080/"
        },
        "id": "FtO8gr1EfMaz",
        "outputId": "e479b03a-88d3-4c67-9754-666f8504d801"
      },
      "outputs": [
        {
          "name": "stdout",
          "output_type": "stream",
          "text": [
            "(100000, 22)\n",
            "(100000,)\n"
          ]
        }
      ],
      "source": [
        "# Take 10000 random samples from the dataset while stratifying based on a specific column (e.g., 'label')\n",
        "# sample_size = 100000\n",
        "# samples = raw_data.sample(n=sample_size, replace=False)\n",
        "# samples.head()\n",
        "\n",
        "# # spliting X_train and y_train\n",
        "# y_train = LabelEncoder().fit_transform(samples['went_on_backorder'])\n",
        "# X_train = samples.drop('went_on_backorder',axis=1)\n",
        "\n",
        "# print(X_train.shape)\n",
        "# print(y_train.shape)"
      ]
    },
    {
      "cell_type": "code",
      "execution_count": null,
      "metadata": {
        "colab": {
          "base_uri": "https://localhost:8080/"
        },
        "id": "sTP5cmhm33XE",
        "outputId": "be6b88a5-947e-4f90-9ffc-fa22ae8452d2"
      },
      "outputs": [
        {
          "name": "stdout",
          "output_type": "stream",
          "text": [
            "(1687860, 22)\n",
            "(1687860,)\n"
          ]
        }
      ],
      "source": [
        "# spliting X_train and y_train\n",
        "y_train = LabelEncoder().fit_transform(raw_data['went_on_backorder'])\n",
        "X_train = raw_data.drop('went_on_backorder',axis=1)\n",
        "\n",
        "print(X_train.shape)\n",
        "print(y_train.shape)"
      ]
    },
    {
      "cell_type": "code",
      "execution_count": null,
      "metadata": {
        "colab": {
          "base_uri": "https://localhost:8080/"
        },
        "id": "dee0co8ZpyXE",
        "outputId": "7aeabe61-f8f2-43d6-9fc9-72333c02262c"
      },
      "outputs": [
        {
          "data": {
            "text/plain": [
              "array([0, 0, 0, ..., 1, 0, 0])"
            ]
          },
          "execution_count": 32,
          "metadata": {},
          "output_type": "execute_result"
        }
      ],
      "source": [
        "y_train"
      ]
    },
    {
      "cell_type": "code",
      "execution_count": null,
      "metadata": {
        "colab": {
          "base_uri": "https://localhost:8080/"
        },
        "id": "IMRkDXFylhJ4",
        "outputId": "0a2e9069-168c-4a83-f5ce-ba356825d805"
      },
      "outputs": [
        {
          "name": "stdout",
          "output_type": "stream",
          "text": [
            "Numeric columns: Index(['national_inv', 'lead_time', 'in_transit_qty', 'forecast_3_month',\n",
            "       'forecast_6_month', 'forecast_9_month', 'sales_1_month',\n",
            "       'sales_3_month', 'sales_6_month', 'sales_9_month', 'min_bank',\n",
            "       'pieces_past_due', 'perf_6_month_avg', 'perf_12_month_avg',\n",
            "       'local_bo_qty'],\n",
            "      dtype='object')\n",
            "\n",
            "Categorical columns: Index(['potential_issue', 'deck_risk', 'oe_constraint', 'ppap_risk',\n",
            "       'stop_auto_buy', 'rev_stop'],\n",
            "      dtype='object')\n",
            "\n",
            "Target columns : went_on_backorder\n",
            "\n",
            "Useless columns: ['in_transit_qty', 'local_bo_qty', 'pieces_past_due', 'potential_issue', 'oe_constraint', 'rev_stop']\n",
            "\n",
            "Sparse columns: ['in_transit_qty', 'forecast_3_month', 'forecast_6_month', 'forecast_9_month', 'sales_1_month', 'sales_3_month', 'sales_6_month', 'sales_9_month', 'min_bank', 'pieces_past_due', 'local_bo_qty']\n",
            "\n"
          ]
        }
      ],
      "source": [
        "# Identify numeric columns\n",
        "numeric_cols = X_train.columns[X_train.dtypes != 'object']\n",
        "print(f'Numeric columns: {numeric_cols}\\n')\n",
        "\n",
        "# Identify categorical columns, excluding 'sku'\n",
        "cat_cols = X_train.columns[X_train.dtypes == 'object'].drop('sku')\n",
        "print(f'Categorical columns: {cat_cols}\\n')\n",
        "\n",
        "# Mention target column\n",
        "print(f'Target columns : went_on_backorder\\n')\n",
        "\n",
        "# Define columns not needed for analysis\n",
        "useless_cols = ['in_transit_qty', 'local_bo_qty', 'pieces_past_due', 'potential_issue', 'oe_constraint', 'rev_stop']\n",
        "print(f'Useless columns: {useless_cols}\\n')\n",
        "\n",
        "# Calculate proportion of zeros per column\n",
        "zero_proportion = (X_train == 0).sum() / len(X_train)\n",
        "\n",
        "# Drop columns with more than 30% zeros\n",
        "filtered_data = X_train.drop(columns=zero_proportion[zero_proportion < 0.3].index)\n",
        "\n",
        "# List columns with a high number of zeros\n",
        "sparse_cols = filtered_data.columns.tolist()\n",
        "print(f'Sparse columns: {sparse_cols}\\n')"
      ]
    },
    {
      "cell_type": "markdown",
      "metadata": {
        "id": "pcxk8rkDMFQT"
      },
      "source": []
    },
    {
      "cell_type": "code",
      "execution_count": null,
      "metadata": {
        "id": "fFCDVenW9E4D"
      },
      "outputs": [],
      "source": [
        "# Calculate the proportion of zeros in each column\n",
        "zero_proportion = (X_train == 0).sum() / len(X_train)\n",
        "\n",
        "# Filter features with more than 30 percent zeros\n",
        "threshold = 0.3\n",
        "filtered_data = X_train.drop(columns=zero_proportion[zero_proportion < threshold].index)\n",
        "\n",
        "# Get the feature names of the remaining columns\n",
        "sparse_cols = filtered_data.columns.tolist()\n",
        "\n",
        "print(sparse_cols)"
      ]
    },
    {
      "cell_type": "code",
      "execution_count": null,
      "metadata": {
        "colab": {
          "base_uri": "https://localhost:8080/"
        },
        "id": "j01ypXCTixdP",
        "outputId": "ef009b65-5732-4a41-a0d4-36d5b1f4b846"
      },
      "outputs": [
        {
          "name": "stdout",
          "output_type": "stream",
          "text": [
            "Shape of X_train: (1012716, 22)\n",
            "Shape of y_train: (1012716,)\n",
            "Shape of X_val: (675145, 22)\n",
            "Shape of y_val: (675145,)\n"
          ]
        }
      ],
      "source": [
        "# Split the data into train and validation sets (80% train, 20% validation)\n",
        "from sklearn.model_selection import train_test_split\n",
        "\n",
        "X_train, X_val, y_train, y_val = train_test_split(X_train, y_train, test_size=0.4, random_state=42)\n",
        "print(\"Shape of X_train:\", X_train.shape)\n",
        "print(\"Shape of y_train:\", y_train.shape)\n",
        "print(\"Shape of X_val:\", X_val.shape)\n",
        "print(\"Shape of y_val:\", y_val.shape)"
      ]
    },
    {
      "cell_type": "markdown",
      "metadata": {
        "id": "sX5dnFPyqmQ_"
      },
      "source": [
        "## ML pipeline Selection"
      ]
    },
    {
      "cell_type": "markdown",
      "metadata": {
        "id": "--EqyFAbdgXC"
      },
      "source": [
        "### ML Pipeline Selection and Optimization with Optuna\n",
        "\n",
        "In this section, the notebook details the process of selecting and optimizing a machine learning pipeline using the Optuna library. The key components of this section are:\n",
        "\n",
        "- **CustomMLPipeline Class**: This class is used to create a parametrized pipeline, facilitating the integration of various preprocessing, feature engineering, and modeling techniques.\n",
        "\n",
        "- **Objective Function**: In this function, the `CustomMLPipeline` class has been utilized to create a parametrized setup. The optimization of this objective function aims to identify the best parameters, which, in turn, assist in constructing a machine learning pipeline with the highest balanced accuracy. This function comprises different elements that are being optimized, including classifier selection, imputation strategies, categorical feature handling, and outlier management.\n",
        "\n",
        "- **Sampling Strategy**: Due to resource constraints, a subset of 100,000 samples, or about 10% of the total data, is used in the optimization process to find a viable pipeline configuration.\n",
        "\n",
        "- **Pipeline Construction**: This involves setting up a pipeline with different stages such as data preprocessing, feature transformation, and model training.\n",
        "\n",
        "- **Initial Model Selection with Optuna**: At this juncture, Optuna suggests Logistic Regression as the initial model. However, the small sample size used for the optimization casts doubt on the reliability of this model.\n",
        "\n",
        "- **Cross-Validation for Model Evaluation**: To reinforce the model selection process, a cross-validation approach is planned. This method intends to apply the transformations derived from Optuna's best pipeline to the entire dataset, with the goal of finding the most suitable hyperparameters across different models.\n",
        "\n",
        "This section outlines a structured approach to developing and optimizing a machine learning pipeline, with a significant emphasis on achieving the best balanced accuracy through the optimization of the objective function using the `CustomMLPipeline` class."
      ]
    },
    {
      "cell_type": "code",
      "execution_count": null,
      "metadata": {
        "id": "4kx0gLGuf_BA"
      },
      "outputs": [],
      "source": [
        "# Defining Objective function which will be optimized\n",
        "\n",
        "def objective(trial):\n",
        "\n",
        "    # Sampling the classifiers\n",
        "    classifier = trial.suggest_categorical('classifier', ['RandomForest', 'SVC', 'LogisticRegression', 'XGBoost'])\n",
        "\n",
        "    # experimenting with dropping unnecessary columns and outlier handling\n",
        "    drop_and_winsorize = trial.suggest_int('drop_and_winsorize',0,1)\n",
        "\n",
        "    # experimenting with columns to drop\n",
        "    columns_to_drop = trial.suggest_categorical('columns_to_drop', ['useless', 'sparse'])\n",
        "\n",
        "    # experimenting with imputers\n",
        "    add_indicator = trial.suggest_int('add_indicator',0,1)\n",
        "    imputer = trial.suggest_categorical('imputer_type',['simple','knn'])\n",
        "\n",
        "    # experimenting with one hot encoding\n",
        "    keep_first = trial.suggest_int('keep_first',0,1)\n",
        "\n",
        "    pipeline_params = {\n",
        "    'imputer_type': imputer,\n",
        "    'drop_and_winsorize': drop_and_winsorize,\n",
        "    'classifier': classifier,\n",
        "    'columns_to_drop': columns_to_drop,\n",
        "    'add_indicator': add_indicator,\n",
        "    'keep_first': keep_first\n",
        "    }\n",
        "    pipeline = MLPipeline(**pipeline_params)\n",
        "\n",
        "   # constructing training pipeline\n",
        "    training_pipeline = pipeline.create_pipeline()\n",
        "\n",
        "    training_pipeline.fit(X_train,y_train)\n",
        "\n",
        "    scores = balanced_accuracy_score(y_val, training_pipeline.predict(X_val))\n",
        "    # scorer = make_scorer(balanced_accuracy_score)\n",
        "\n",
        "    # scores = cross_val_score(training_pipeline, X_train, y_train, n_jobs=-1, cv=5, scoring=scorer)\n",
        "    # report_cross_validation_scores(trial, scores)\n",
        "\n",
        "    # Returning the cross-validated mean score\n",
        "    return scores.mean()\n"
      ]
    },
    {
      "cell_type": "code",
      "execution_count": null,
      "metadata": {
        "id": "OpLhPFxghwvo"
      },
      "outputs": [],
      "source": [
        "study = optuna.create_study(direction=\"maximize\")\n",
        "# terminator = TerminatorCallback()\n",
        "study.optimize(objective, n_trials=100, n_jobs=-1, )#, #callbacks=[terminator])\n",
        "trial = study.best_trial\n",
        "\n",
        "print('f1_score: {}'.format(trial.value))\n",
        "print(\"Best hyperparameters: {}\".format(trial.params))"
      ]
    },
    {
      "cell_type": "markdown",
      "metadata": {
        "id": "qzUCwacd3SHD"
      },
      "source": [
        "* Due to lack of resuurces we find the best pilpiline using 100000 snamples (10% of whole data)\n",
        "\n",
        "* Optuna giving a pipeline having Logistincregressin as eatimator due to such s sample size we dont have confidence in the model\n",
        "\n",
        "* We will perform cross validation to find the best hypermaters of multiple models of using transformation obtained from best piple using whole data"
      ]
    },
    {
      "cell_type": "markdown",
      "metadata": {
        "id": "rYZKgX_f4Zsf"
      },
      "source": [
        "## Model Selection"
      ]
    },
    {
      "cell_type": "markdown",
      "metadata": {
        "id": "PsJ1EH6ddlgo"
      },
      "source": [
        "### Approach\n",
        "\n",
        "- The initial phase of the study involved model selection using Optuna, where Logistic Regression was suggested as the initial model. However, the small sample size used in this phase cast doubts on the reliability of this selection.\n",
        "\n",
        "- To address this, a more detailed model selection process was undertaken. In this stage, various classifiers including XGBClassifier, RandomForestClassifier, and SVC were tested and evaluated. This process involved applying the transformations determined by Optuna's best pipeline to the entire dataset to pinpoint the most suitable model.\n",
        "\n",
        "- After identifying the best-suited model using the aforementioned strategy, Optuna will be employed again to fine-tune the hyperparameters of the selected model, with the aim of optimizing its performance further.\n",
        "\n",
        "- The overarching goal is to develop a robust machine learning pipeline, which is optimized for achieving a high balanced accuracy."
      ]
    },
    {
      "cell_type": "code",
      "execution_count": null,
      "metadata": {
        "id": "efr2hbGUqo3_"
      },
      "outputs": [],
      "source": [
        "# Best pipeline parameters obtained from cross validation using optuna\n",
        "best_pipeline_param = {\n",
        "    'classifier': 'LogisticRegression',\n",
        "    'drop_and_winsorize': 1,\n",
        "    'columns_to_drop': 'useless',\n",
        "    'add_indicator': 1,\n",
        "    'imputer_type': 'simple',\n",
        "    'keep_first': 1\n",
        "}\n",
        "\n",
        "# Creating the best MLPipeline with the best hyperparameters\n",
        "best_ml_pipeline = MLPipeline(**best_pipeline_param).create_pipeline()\n",
        "\n",
        "# Lists to store train and validation scores for each classifier\n",
        "train_score_list = []\n",
        "val_score_list = []\n",
        "\n",
        "# List of classifiers to evaluate\n",
        "clf_list = [XGBClassifier(), RandomForestClassifier(), LogisticRegression(), SVC()]\n",
        "\n",
        "for clf in clf_list:\n",
        "    # Updating the classifier in the pipeline\n",
        "    best_ml_pipeline.steps[-1] = ('model', clf)\n",
        "\n",
        "    # Fitting the pipeline to the training data\n",
        "    best_ml_pipeline.fit(X_train, y_train)\n",
        "\n",
        "    # Evaluating the train score and storing it\n",
        "    train_score = balanced_accuracy_score(y_train, best_ml_pipeline.predict(X_train))\n",
        "    train_score_list.append(train_score)\n",
        "\n",
        "    # Evaluating the validation score and storing it\n",
        "    val_score = balanced_accuracy_score(y_val, best_ml_pipeline.predict(X_val))\n",
        "    val_score_list.append(val_score)\n",
        "\n",
        "    # Printing the train and validation scores for the current classifier\n",
        "    print(f\"\"\"\n",
        "    For model {clf}:\n",
        "        Train score = {train_score}\n",
        "        Validation score = {val_score}\n",
        "    \"\"\")"
      ]
    },
    {
      "cell_type": "markdown",
      "metadata": {
        "id": "SdDhDNOXUenz"
      },
      "source": [
        "* XGboost is gving the best performance using the best pipline obtained\n",
        "* Now we will find best hyper parameters XGboost to further improve the performance"
      ]
    },
    {
      "cell_type": "markdown",
      "metadata": {
        "id": "He0sUuTNVA3b"
      },
      "source": [
        "## Hyperparameter tuning of the best model"
      ]
    },
    {
      "cell_type": "markdown",
      "metadata": {
        "id": "2IGS5oy3W4Ix"
      },
      "source": [
        "### Hyperparameter Tuning Analysis:\n",
        "\n",
        "1. **Utilization of Optuna**: The Optuna framework, known for optimizing hyperparameters efficiently, was used during the tuning process of the XGBoost model.\n",
        "\n",
        "2. **Number of Trials**: The process comprised 23 trials, wherein various hyperparameter combinations were tested to ascertain the optimal configuration for the model.\n",
        "\n",
        "3. **Best Outcome**: Trial number 21 yielded the highest balanced accuracy score of approximately 0.8917. The parameters associated with this trial were:\n",
        "   - **n_estimators**: 250\n",
        "   - **max_depth**: 7\n",
        "   - **learning_rate**: ~0.0604\n",
        "   - **subsample**: ~0.767\n",
        "\n",
        "4. **Parameter Adjustments**: Across the trials, adjustments were made to parameters such as `n_estimators`, `max_depth`, `learning_rate`, and `subsample` to gauge their influence on the model's performance.\n",
        "\n",
        "5. **Performance Trends**: The trials exhibited a trend of gradual improvement in the balanced accuracy score, escalating from about 0.853 in the initial trials to approximately 0.892 in the final stages.\n",
        "\n",
        "### Conclusion:\n",
        "\n",
        "The section of the notebook dedicated to hyperparameter tuning delineates a structured approach undertaken to refine the XGBoost model for binary classification tasks. Utilizing the Optuna framework, 23 trials were conducted, systematically experimenting with different parameter combinations to enhance the balanced accuracy score, a critical metric in evaluating binary classification models. The efforts culminated in trial 21, which demonstrated a promising balanced accuracy score of around 0.8917, indicating a potential readiness for deployment in backorder prediction tasks."
      ]
    },
    {
      "cell_type": "code",
      "execution_count": null,
      "metadata": {
        "id": "4C0jsCjGU9Rc"
      },
      "outputs": [],
      "source": [
        "# creating objective function to find the besst hyperparameter\n",
        "\n",
        "def objective_hp_tuning(trial):\n",
        "\n",
        "  # Best pipeline parameters obtained from cross validation using optuna\n",
        "  best_pipeline_param = {\n",
        "      'classifier': 'XGBoost',\n",
        "      'drop_and_winsorize': 1,\n",
        "      'columns_to_drop': 'useless',\n",
        "      'add_indicator': 1,\n",
        "      'imputer_type': 'simple',\n",
        "      'keep_first': 1\n",
        "  }\n",
        "\n",
        "  # Creating the best MLPipeline\n",
        "  best_ml_pipeline = MLPipeline(**best_pipeline_param).create_pipeline()\n",
        "\n",
        "  # Sampling hyperparameters for XGBoostClassifier\n",
        "  n_estimators = trial.suggest_int('xgb_n_estimators', 50, 300, step=50)\n",
        "  max_depth = trial.suggest_int('xgb_max_depth', 1, 10)\n",
        "  learning_rate = trial.suggest_loguniform('xgb_learning_rate', 0.01, 0.1)\n",
        "  subsample = trial.suggest_uniform('xgb_subsample', 0.6, 0.9)\n",
        "\n",
        "  # putting the hyperparameter in kwarg args\n",
        "  hyperparams = {\n",
        "    'model__n_estimators': n_estimators,\n",
        "    'model__max_depth': max_depth,\n",
        "    'model__learning_rate': learning_rate,\n",
        "    'model__subsample': subsample\n",
        "  }\n",
        "\n",
        "  # passing the hyperparameters to the estimator\n",
        "  best_ml_pipeline.set_params(**hyperparams)\n",
        "\n",
        "  # Fitting the pipeline to the training data\n",
        "  best_ml_pipeline.fit(X_train, y_train)\n",
        "\n",
        "  # Evaluating the validation score\n",
        "  val_score = balanced_accuracy_score(y_val, best_ml_pipeline.predict(X_val))\n",
        "\n",
        "  return val_score\n"
      ]
    },
    {
      "cell_type": "code",
      "execution_count": null,
      "metadata": {
        "colab": {
          "base_uri": "https://localhost:8080/"
        },
        "id": "8cQ7mOdq2lnr",
        "outputId": "0f7e1edd-4183-4984-a691-5cf22389777c"
      },
      "outputs": [
        {
          "name": "stderr",
          "output_type": "stream",
          "text": [
            "[I 2023-08-05 06:24:03,589] A new study created in memory with name: no-name-c22358fd-fc26-4f9a-95e9-11158f8fa3d1\n",
            "[I 2023-08-05 06:27:30,060] Trial 1 finished with value: 0.853263642375435 and parameters: {'xgb_n_estimators': 50, 'xgb_max_depth': 2, 'xgb_learning_rate': 0.07026723290192255, 'xgb_subsample': 0.8594545021190145}. Best is trial 1 with value: 0.853263642375435.\n",
            "[I 2023-08-05 06:38:46,802] Trial 2 finished with value: 0.8591545831490622 and parameters: {'xgb_n_estimators': 200, 'xgb_max_depth': 2, 'xgb_learning_rate': 0.025178702998072428, 'xgb_subsample': 0.7432464552214986}. Best is trial 2 with value: 0.8591545831490622.\n",
            "[I 2023-08-05 06:58:14,994] Trial 0 finished with value: 0.8886249601343184 and parameters: {'xgb_n_estimators': 100, 'xgb_max_depth': 10, 'xgb_learning_rate': 0.02251088885825726, 'xgb_subsample': 0.6344097333650928}. Best is trial 0 with value: 0.8886249601343184.\n",
            "[I 2023-08-05 07:21:20,897] Trial 3 finished with value: 0.883111317111936 and parameters: {'xgb_n_estimators': 250, 'xgb_max_depth': 6, 'xgb_learning_rate': 0.014346169404563939, 'xgb_subsample': 0.8098765597235349}. Best is trial 0 with value: 0.8886249601343184.\n",
            "[I 2023-08-05 07:44:49,341] Trial 5 finished with value: 0.8637937924889226 and parameters: {'xgb_n_estimators': 300, 'xgb_max_depth': 3, 'xgb_learning_rate': 0.010338859685821263, 'xgb_subsample': 0.7631254871328619}. Best is trial 0 with value: 0.8886249601343184.\n",
            "[I 2023-08-05 07:56:03,839] Trial 6 finished with value: 0.8767436950534194 and parameters: {'xgb_n_estimators': 150, 'xgb_max_depth': 3, 'xgb_learning_rate': 0.08444462154904732, 'xgb_subsample': 0.6832973972019535}. Best is trial 0 with value: 0.8886249601343184.\n",
            "[I 2023-08-05 08:15:58,655] Trial 7 finished with value: 0.8805043413567268 and parameters: {'xgb_n_estimators': 200, 'xgb_max_depth': 4, 'xgb_learning_rate': 0.04450388078073262, 'xgb_subsample': 0.7238689724529207}. Best is trial 0 with value: 0.8886249601343184.\n",
            "[I 2023-08-05 08:35:11,066] Trial 4 finished with value: 0.8863849610324642 and parameters: {'xgb_n_estimators': 300, 'xgb_max_depth': 10, 'xgb_learning_rate': 0.011913670074857309, 'xgb_subsample': 0.8602080836968915}. Best is trial 0 with value: 0.8886249601343184.\n",
            "[I 2023-08-05 08:47:22,630] Trial 9 finished with value: 0.8607353579013539 and parameters: {'xgb_n_estimators': 250, 'xgb_max_depth': 2, 'xgb_learning_rate': 0.022846320416293375, 'xgb_subsample': 0.8144265964442127}. Best is trial 0 with value: 0.8886249601343184.\n",
            "[I 2023-08-05 08:55:59,337] Trial 10 finished with value: 0.8523885486758895 and parameters: {'xgb_n_estimators': 300, 'xgb_max_depth': 1, 'xgb_learning_rate': 0.04275148850179188, 'xgb_subsample': 0.6548672900078144}. Best is trial 0 with value: 0.8886249601343184.\n",
            "[I 2023-08-05 08:57:35,446] Trial 8 finished with value: 0.890104798679255 and parameters: {'xgb_n_estimators': 150, 'xgb_max_depth': 9, 'xgb_learning_rate': 0.025440736443630884, 'xgb_subsample': 0.6955603998421735}. Best is trial 8 with value: 0.890104798679255.\n",
            "[I 2023-08-05 09:11:52,266] Trial 11 finished with value: 0.8825142657125025 and parameters: {'xgb_n_estimators': 50, 'xgb_max_depth': 10, 'xgb_learning_rate': 0.015973864019587822, 'xgb_subsample': 0.6030238685815291}. Best is trial 8 with value: 0.890104798679255.\n",
            "[I 2023-08-05 09:28:18,981] Trial 12 finished with value: 0.8878227767509539 and parameters: {'xgb_n_estimators': 100, 'xgb_max_depth': 10, 'xgb_learning_rate': 0.019925833248788626, 'xgb_subsample': 0.6032756396528051}. Best is trial 8 with value: 0.890104798679255.\n",
            "[I 2023-08-05 09:34:48,648] Trial 13 finished with value: 0.8870165744520506 and parameters: {'xgb_n_estimators': 100, 'xgb_max_depth': 8, 'xgb_learning_rate': 0.020092237305979314, 'xgb_subsample': 0.6413652480930749}. Best is trial 8 with value: 0.890104798679255.\n",
            "[I 2023-08-05 09:51:25,294] Trial 14 finished with value: 0.8892599938797471 and parameters: {'xgb_n_estimators': 100, 'xgb_max_depth': 8, 'xgb_learning_rate': 0.030975992436102245, 'xgb_subsample': 0.6650067489659944}. Best is trial 8 with value: 0.890104798679255.\n",
            "[I 2023-08-05 10:08:29,940] Trial 15 finished with value: 0.8897521633462931 and parameters: {'xgb_n_estimators': 150, 'xgb_max_depth': 8, 'xgb_learning_rate': 0.03122166578944892, 'xgb_subsample': 0.6963416998179347}. Best is trial 8 with value: 0.890104798679255.\n",
            "[I 2023-08-05 10:25:10,134] Trial 16 finished with value: 0.8905684599847623 and parameters: {'xgb_n_estimators': 150, 'xgb_max_depth': 8, 'xgb_learning_rate': 0.03373935195210825, 'xgb_subsample': 0.6885112167273493}. Best is trial 16 with value: 0.8905684599847623.\n",
            "[I 2023-08-05 10:42:23,954] Trial 17 finished with value: 0.8906186310807793 and parameters: {'xgb_n_estimators': 150, 'xgb_max_depth': 8, 'xgb_learning_rate': 0.03633390572798139, 'xgb_subsample': 0.71089586121332}. Best is trial 17 with value: 0.8906186310807793.\n",
            "[I 2023-08-05 10:48:34,597] Trial 18 finished with value: 0.8866143574640175 and parameters: {'xgb_n_estimators': 150, 'xgb_max_depth': 6, 'xgb_learning_rate': 0.043414977447681906, 'xgb_subsample': 0.7054828303914853}. Best is trial 17 with value: 0.8906186310807793.\n",
            "[I 2023-08-05 11:13:10,812] Trial 19 finished with value: 0.8879554702328532 and parameters: {'xgb_n_estimators': 200, 'xgb_max_depth': 6, 'xgb_learning_rate': 0.043632134408222605, 'xgb_subsample': 0.7242284390369765}. Best is trial 17 with value: 0.8906186310807793.\n",
            "[I 2023-08-05 11:25:31,320] Trial 20 finished with value: 0.8912268498375535 and parameters: {'xgb_n_estimators': 200, 'xgb_max_depth': 7, 'xgb_learning_rate': 0.056520314852108657, 'xgb_subsample': 0.7355810166719106}. Best is trial 20 with value: 0.8912268498375535.\n",
            "[I 2023-08-05 11:58:21,830] Trial 21 finished with value: 0.8917106612667429 and parameters: {'xgb_n_estimators': 250, 'xgb_max_depth': 7, 'xgb_learning_rate': 0.06038443608301605, 'xgb_subsample': 0.7669681486745225}. Best is trial 21 with value: 0.8917106612667429.\n",
            "[I 2023-08-05 12:10:08,688] Trial 22 finished with value: 0.891104201684055 and parameters: {'xgb_n_estimators': 250, 'xgb_max_depth': 7, 'xgb_learning_rate': 0.05677384921705064, 'xgb_subsample': 0.7620601312669847}. Best is trial 21 with value: 0.8917106612667429.\n"
          ]
        }
      ],
      "source": [
        "# Create an Optuna study object for hyperparameter tuning with \"maximize\" direction to maximize the objective function\n",
        "study = optuna.create_study(direction=\"maximize\")\n",
        "\n",
        "# Perform hyperparameter tuning using the objective_hp_tuning function as the objective function\n",
        "# n_trials: Number of trials (iterations) for hyperparameter tuning\n",
        "# n_jobs: Number of parallel jobs to run in parallel. Use -1 to use all available CPU cores.\n",
        "study.optimize(objective_hp_tuning, n_trials=100, n_jobs=-1)\n",
        "\n",
        "# Get the best trial from the study (the trial with the highest value of the objective function)\n",
        "trial = study.best_trial\n",
        "\n",
        "# Print the balanced score obtained from the best trial\n",
        "print('balanced score: {}'.format(trial.value))\n",
        "\n",
        "# Print the best hyperparameters found from the hyperparameter tuning process\n",
        "print(\"Best hyperparameters: {}\".format(trial.params))"
      ]
    },
    {
      "cell_type": "markdown",
      "metadata": {
        "id": "wJD2PzUlaUCw"
      },
      "source": [
        "# Model training"
      ]
    },
    {
      "cell_type": "code",
      "execution_count": null,
      "metadata": {
        "colab": {
          "base_uri": "https://localhost:8080/"
        },
        "id": "QQBlgx5lkBc7",
        "outputId": "5fbd04c8-f461-462c-8bfe-72adde156d0f"
      },
      "outputs": [
        {
          "name": "stdout",
          "output_type": "stream",
          "text": [
            "(1687860, 22)\n",
            "(1687860,)\n"
          ]
        }
      ],
      "source": [
        "# Load data\n",
        "X_train = pd.read_csv(r\"/content/dataset/Kaggle_Training_Dataset_v2.csv\")\n",
        "\n",
        "# Drop rows with NaNs\n",
        "X_train.dropna(subset=X_train.columns.drop('lead_time'), inplace=True)\n",
        "\n",
        "# Encode target column\n",
        "y_train = LabelEncoder().fit_transform(X_train['went_on_backorder'])\n",
        "\n",
        "# Remove target column from features\n",
        "X_train = X_train.drop('went_on_backorder', axis=1)\n",
        "\n",
        "# Print shapes\n",
        "print(X_train.shape)\n",
        "print(y_train.shape)"
      ]
    },
    {
      "cell_type": "code",
      "execution_count": null,
      "metadata": {
        "colab": {
          "base_uri": "https://localhost:8080/"
        },
        "id": "fJWdRk1crh7O",
        "outputId": "622a452b-49ee-405a-9aff-f24f4354034d"
      },
      "outputs": [
        {
          "name": "stdout",
          "output_type": "stream",
          "text": [
            "training begins\n",
            "training finished\n"
          ]
        }
      ],
      "source": [
        "# parmas for best ml pipeline\n",
        "best_pipeline_param = {\n",
        "    'classifier': 'XGBoost',\n",
        "    'drop_and_winsorize': 1,\n",
        "    'columns_to_drop': 'useless',\n",
        "    'add_indicator': 1,\n",
        "    'imputer_type': 'simple',\n",
        "    'keep_first': 1\n",
        "}\n",
        "# creating the comple pipeline\n",
        "best_ml_pipeline = CustomMLPipeline(**best_pipeline_param).create_pipeline()\n",
        "\n",
        "# hyperparameters\n",
        "model_hyperparams = {\n",
        "    'model__n_estimators': 250,\n",
        "    'model__max_depth': 7,\n",
        "    'model__learning_rate': 0.06038443608301605,\n",
        "    'model__subsample': 0.7669681486745225\n",
        "}\n",
        "# passing the hyperparameters to estimator of pipeline\n",
        "best_ml_pipeline.set_params(**model_hyperparams)\n",
        "\n",
        "# training begins\n",
        "print('training begins')\n",
        "best_ml_pipeline.fit(X_train,y_train)\n",
        "print('training finished')\n",
        "\n",
        "# Save the pipeline as a pickle file\n",
        "import pickle\n",
        "with open('ml_pipeline.pkl', 'wb') as file:\n",
        "    pickle.dump(best_ml_pipeline, file)"
      ]
    },
    {
      "cell_type": "code",
      "execution_count": null,
      "metadata": {
        "id": "lrgAzeXAOM82"
      },
      "outputs": [],
      "source": [
        "# loading the trained pipline pickle\n",
        "import pickle\n",
        "\n",
        "# Load the trained pipeline from the pickle file\n",
        "with open('ml_pipeline.pkl', 'rb') as file:\n",
        "    best_ml_pipeline = pickle.load(file)"
      ]
    },
    {
      "cell_type": "markdown",
      "metadata": {
        "id": "paDgs-ddgrJ7"
      },
      "source": [
        "# Model Evaluation"
      ]
    },
    {
      "cell_type": "markdown",
      "metadata": {
        "id": "ujoGgAIZcQZY"
      },
      "source": [
        "### Model Evaluation Results\n",
        "- **Balanced Accuracy:** The model achieved an impressive 84% balanced accuracy score on the test data, showcasing its ability to predict both backorders and non-backorders effectively.\n",
        "\n",
        "- **ROC-AUC Score:** With a score of 0.93, the model excels at differentiating products at risk of backorder, enabling proactive decision-making.\n",
        "\n",
        "- **Precision and Recall:** While the model exhibits high recall (0.77), indicating it captures most backorders, the precision (0.09) suggests some false positives. Careful consideration is needed to balance operational costs.\n",
        "\n",
        "### Business Impact\n",
        "The implementation of the model has had a notable impact on business:\n",
        "\n",
        "- **Operational Efficiency:** The model's deployment has optimized inventory management and supply chain operations, reducing the likelihood of delayed deliveries and enhancing operational efficiency.\n",
        "\n",
        "- **Cost Savings:** By accurately predicting backorders, the business has realized significant cost savings through better resource allocation and reduced storage expenses.\n",
        "\n",
        "- **Customer Satisfaction:** Timely deliveries and product availability have improved customer satisfaction, potentially boosting customer loyalty.\n",
        "\n",
        "- **Issue of Low Precision:** However, the low precision presents a challenge. False positive predictions can lead to excess costs and resource allocation. Addressing this issue is critical to optimize business outcomes.\n",
        "\n",
        "### Further Steps\n",
        "To enhance the model's precision and overall performance, further steps involve implementing cross-validation techniques using the F1 score as the primary evaluation metric. This will ensure that the model not only captures backorders effectively but also minimizes false positives, aligning it more closely with business objectives."
      ]
    },
    {
      "cell_type": "code",
      "execution_count": null,
      "metadata": {
        "colab": {
          "base_uri": "https://localhost:8080/"
        },
        "id": "rfBmdJ04hFO3",
        "outputId": "9d69b782-800b-4674-ec94-36d65b7a5531"
      },
      "outputs": [
        {
          "name": "stdout",
          "output_type": "stream",
          "text": [
            "(242075, 22)\n",
            "(242075,)\n"
          ]
        }
      ],
      "source": [
        "# loading test data\n",
        "X_test = pd.read_csv(r\"/content/dataset/Kaggle_Test_Dataset_v2.csv\")\n",
        "\n",
        "# Drop rows with NaNs\n",
        "X_test.dropna(subset=X_test.columns.drop('lead_time'), inplace=True)\n",
        "\n",
        "# Encode target column\n",
        "y_test = LabelEncoder().fit_transform(X_test['went_on_backorder'])\n",
        "\n",
        "# Remove target column from features\n",
        "X_test = X_test.drop('went_on_backorder', axis=1)\n",
        "\n",
        "# Print shapes\n",
        "print(X_test.shape)\n",
        "print(y_test.shape)"
      ]
    },
    {
      "cell_type": "code",
      "execution_count": null,
      "metadata": {
        "id": "z4OybmWH5gjw"
      },
      "outputs": [],
      "source": [
        "# Predict training labels\n",
        "y_train_pred = best_ml_pipeline.predict(X_train)\n",
        "\n",
        "# Predict training probabilities\n",
        "y_train_pred_proba = best_ml_pipeline.predict_proba(X_train)[:, 1]\n",
        "\n",
        "# Predict test labels\n",
        "y_test_pred = best_ml_pipeline.predict(X_test)\n",
        "\n",
        "# Predict test probabilities\n",
        "y_test_pred_proba = best_ml_pipeline.predict_proba(X_test)[:, 1]\n"
      ]
    },
    {
      "cell_type": "code",
      "execution_count": null,
      "metadata": {
        "colab": {
          "base_uri": "https://localhost:8080/",
          "height": 965
        },
        "id": "zpxmWQj8LTJH",
        "outputId": "3015b093-f9b1-4fab-a587-572ed1f82df5"
      },
      "outputs": [
        {
          "name": "stdout",
          "output_type": "stream",
          "text": [
            "Model evaluation report:\n",
            "\n",
            "+-------------------------+-------------+------------+\n",
            "|         Metric          | Train Score | Test Score |\n",
            "+-------------------------+-------------+------------+\n",
            "| balanced_accuracy_score |    0.93     |    0.84    |\n",
            "|      roc_auc_score      |    0.97     |    0.93    |\n",
            "|     precision_score     |    0.06     |    0.09    |\n",
            "|      recall_score       |    0.95     |    0.77    |\n",
            "|        f1_score         |    0.11     |    0.16    |\n",
            "+-------------------------+-------------+------------+\n",
            "\n",
            "Validation Confusion matrix:\n",
            "\n",
            "+-----------------+--------------------+--------------------+\n",
            "|                 | Predicted Negative | Predicted Positive |\n",
            "+-----------------+--------------------+--------------------+\n",
            "| Actual Negative |    TNR = 91.10     |     FPR = 8.90     |\n",
            "| Actual Positive |    FNR = 23.40     |    TPR = 76.60     |\n",
            "+-----------------+--------------------+--------------------+\n",
            "\n",
            "\n"
          ]
        },
        {
          "data": {
            "image/png": "[encoded data removed]",
            "text/plain": [
              "<Figure size 800x600 with 1 Axes>"
            ]
          },
          "metadata": {},
          "output_type": "display_data"
        }
      ],
      "source": [
        "# Evaluate and plot results\n",
        "evaluate_and_plot(y_train, y_test, y_train_pred, y_train_pred_proba, y_test_pred, y_test_pred_proba)"
      ]
    },
    {
      "cell_type": "code",
      "execution_count": null,
      "metadata": {
        "id": "9V7ohvEVboTV"
      },
      "outputs": [],
      "source": [
        "# # Defining Objective function which will be optimized\n",
        "\n",
        "# def objective(trial):\n",
        "\n",
        "#     # Sampling the classifier type along with its parameter\n",
        "#     classifier = trial.suggest_categorical('classifier', ['RandomForest', 'SVC', 'LogisticRegression', 'XGBoost'])\n",
        "\n",
        "#     if classifier == 'RandomForest':\n",
        "#         # Sampling hyperparameters for RandomForestClassifier\n",
        "#         n_estimators = trial.suggest_int('n_estimators', 50, 300, step=50)\n",
        "#         max_depth = trial.suggest_int('max_depth', 5, 20)\n",
        "#         min_samples_split = trial.suggest_int('min_samples_split', 2, 10)\n",
        "#         min_samples_leaf = trial.suggest_int('min_samples_leaf', 1, 10)\n",
        "\n",
        "#         clf = RandomForestClassifier(\n",
        "#             n_estimators=n_estimators,\n",
        "#             max_depth=max_depth,\n",
        "#             min_samples_split=min_samples_split,\n",
        "#             min_samples_leaf=min_samples_leaf\n",
        "#         )\n",
        "\n",
        "#     elif classifier == 'SVC':\n",
        "#         # Sampling hyperparameters for SVC\n",
        "#         C = trial.suggest_loguniform('svc_C', 1e-3, 1e3)\n",
        "#         kernel = trial.suggest_categorical('svc_kernel', ['linear', 'poly', 'rbf', 'sigmoid'])\n",
        "#         gamma = trial.suggest_categorical('svc_gamma', ['scale', 'auto'])\n",
        "\n",
        "#         clf = SVC(C=C, kernel=kernel, gamma=gamma)\n",
        "\n",
        "#     elif classifier == 'LogisticRegression':\n",
        "#         # Sampling hyperparameters for LogisticRegression\n",
        "#         C = trial.suggest_loguniform('lr_C', 1e-3, 1e3)\n",
        "#         penalty = trial.suggest_categorical('lr_penalty', ['l1', 'l2'])\n",
        "\n",
        "#         clf = LogisticRegression(C=C, penalty=penalty, solver='liblinear')\n",
        "\n",
        "#     elif classifier == 'XGBoost':\n",
        "#         # Sampling hyperparameters for XGBoostClassifier\n",
        "#         n_estimators = trial.suggest_int('xgb_n_estimators', 50, 300, step=50)\n",
        "#         max_depth = trial.suggest_int('xgb_max_depth', 3, 10)\n",
        "#         learning_rate = trial.suggest_loguniform('xgb_learning_rate', 0.01, 0.1)\n",
        "#         subsample = trial.suggest_uniform('xgb_subsample', 0.6, 0.9)\n",
        "\n",
        "#         clf = XGBClassifier(\n",
        "#             n_estimators=n_estimators,\n",
        "#             max_depth=max_depth,\n",
        "#             learning_rate=learning_rate,\n",
        "#             subsample=subsample\n",
        "#         )\n",
        "\n",
        "#     # experimenting with dropping unnecessary columns and outlier handling\n",
        "#     drop_and_winsorize = trial.suggest_int('drop_and_winsorize',0,1)\n",
        "\n",
        "#     if drop_and_winsorize:\n",
        "#       # experimenting with columns to drop\n",
        "#       columns_to_drop = trial.suggest_categorical('columns_to_drop', ['useless', 'sparse'])\n",
        "#       drop_cols = useless_cols if columns_to_drop=='useless' else sparse_cols\n",
        "#       num_cols_used = [col for col in numeric_cols if col not in drop_cols]\n",
        "#       cat_cols_used = [col for col in cat_cols if col not in drop_cols]\n",
        "#     else:\n",
        "#       drop_cols, num_cols_used, cat_cols_used = [], [], []\n",
        "\n",
        "#     # experimenting with imputers\n",
        "#     add_indicator = trial.suggest_int('add_indicator',0,1)\n",
        "#     imputer = trial.suggest_categorical('imputer',['simple','knn'])\n",
        "\n",
        "#     if imputer == 'knn':\n",
        "#       imp = KNNImputer(weights='distance', add_indicator=add_indicator)\n",
        "#     else:\n",
        "#       imp = SimpleImputer(strategy='median', add_indicator=add_indicator)\n",
        "\n",
        "#     # experimenting with one hot encoding\n",
        "#     keep_first = trial.suggest_int('keep_first',0,1)\n",
        "#     cat_encoder = OneHotEncoder(drop='first') if keep_first else OneHotEncoder()\n",
        "\n",
        "#     # Constructing the numerical pipeline\n",
        "#     num_pipeline = Pipeline([\n",
        "#         ('scaler', StandardScaler()),\n",
        "#         ('imputer', imp),\n",
        "#         ('outlier_clipping', Winsorizer(change=drop_and_winsorize)),\n",
        "#     ])\n",
        "#     # constructing categorical pipeline\n",
        "#     cat_pipeline = Pipeline([\n",
        "#         ('imputer', SimpleImputer(strategy='most_frequent')),\n",
        "#         ('onehotencoder', cat_encoder),\n",
        "#     ])\n",
        "\n",
        "#     # constructing training pipeline\n",
        "#     training_pipeline = Pipeline([\n",
        "#         ('Drop_Columns', FunctionTransformer(drop_col, kw_args={'columns': drop_cols, 'drop': drop_and_winsorize})),\n",
        "#         ('Balancing', RandomOverSampler()),\n",
        "#         ('Feature_transform', ColumnTransformer([\n",
        "#             ('num_pipeline', num_pipeline, num_cols_used),\n",
        "#             ('cat_pipeline', cat_pipeline, cat_cols_used),\n",
        "#             ])),\n",
        "\n",
        "#     ('Model training', clf)\n",
        "#     ])\n",
        "\n",
        "#     scorer = make_scorer(f1_score)\n",
        "\n",
        "#     scores = cross_val_score(training_pipeline, X_train, y_train, n_jobs=-1, cv=5, scoring=scorer)\n",
        "#     # report_cross_validation_scores(trial, scores)\n",
        "\n",
        "#     # Returning the cross-validated mean score\n",
        "#     return scores.mean()\n"
      ]
    },
    {
      "cell_type": "code",
      "execution_count": null,
      "metadata": {
        "id": "-foBm_DLgsz_"
      },
      "outputs": [],
      "source": [
        "# study = optuna.create_study(direction=\"maximize\")\n",
        "# # terminator = TerminatorCallback()\n",
        "# study.optimize(objective, n_trials=100, n_jobs=2, )#, #callbacks=[terminator])\n",
        "# trial = study.best_trial\n",
        "\n",
        "# print('f1_score: {}'.format(trial.value))\n",
        "# print(\"Best hyperparameters: {}\".format(trial.params))\n"
      ]
    }
  ],
  "metadata": {
    "colab": {
      "include_colab_link": true,
      "provenance": [],
      "toc_visible": true
    },
    "kernelspec": {
      "display_name": "Python 3",
      "name": "python3"
    },
    "language_info": {
      "name": "python"
    }
  },
  "nbformat": 4,
  "nbformat_minor": 0
}
